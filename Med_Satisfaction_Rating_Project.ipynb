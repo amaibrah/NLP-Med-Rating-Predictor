{
 "cells": [
  {
   "cell_type": "code",
   "execution_count": 1,
   "id": "9c2872ee",
   "metadata": {},
   "outputs": [],
   "source": [
    "from pathlib import Path\n",
    "import os\n",
    "home_dir = Path(\".\").resolve().parent\n",
    "data_dir = str(home_dir)+'\\Data'"
   ]
  },
  {
   "cell_type": "code",
   "execution_count": 3,
   "id": "10af0b2d",
   "metadata": {},
   "outputs": [],
   "source": [
    "os.chdir(data_dir)"
   ]
  },
  {
   "cell_type": "code",
   "execution_count": 4,
   "id": "21ddd5f6",
   "metadata": {},
   "outputs": [],
   "source": [
    "import spacy\n",
    "import pandas as pd\n",
    "import numpy as np\n",
    "import matplotlib.pyplot as plt\n",
    "from wordcloud import WordCloud"
   ]
  },
  {
   "cell_type": "markdown",
   "id": "41e75381",
   "metadata": {},
   "source": [
    "Data set is already in 2 separate files; one training set and one testing set. Will only pull in training set at first.\n",
    "\n",
    "This data was obtained from the UCI Machine Learning Repository at this url: https://archive.ics.uci.edu/ml/datasets/Drug+Review+Dataset+%28Drugs.com%29"
   ]
  },
  {
   "cell_type": "code",
   "execution_count": 5,
   "id": "6e054e6f",
   "metadata": {},
   "outputs": [],
   "source": [
    "data= pd.read_csv('drugsComTrain_raw.tsv', sep='\\t')"
   ]
  },
  {
   "cell_type": "code",
   "execution_count": 6,
   "id": "26308779",
   "metadata": {},
   "outputs": [
    {
     "name": "stdout",
     "output_type": "stream",
     "text": [
      "(161297, 7)\n"
     ]
    },
    {
     "data": {
      "text/html": [
       "<div>\n",
       "<style scoped>\n",
       "    .dataframe tbody tr th:only-of-type {\n",
       "        vertical-align: middle;\n",
       "    }\n",
       "\n",
       "    .dataframe tbody tr th {\n",
       "        vertical-align: top;\n",
       "    }\n",
       "\n",
       "    .dataframe thead th {\n",
       "        text-align: right;\n",
       "    }\n",
       "</style>\n",
       "<table border=\"1\" class=\"dataframe\">\n",
       "  <thead>\n",
       "    <tr style=\"text-align: right;\">\n",
       "      <th></th>\n",
       "      <th>Unnamed: 0</th>\n",
       "      <th>drugName</th>\n",
       "      <th>condition</th>\n",
       "      <th>review</th>\n",
       "      <th>rating</th>\n",
       "      <th>date</th>\n",
       "      <th>usefulCount</th>\n",
       "    </tr>\n",
       "  </thead>\n",
       "  <tbody>\n",
       "    <tr>\n",
       "      <th>0</th>\n",
       "      <td>206461</td>\n",
       "      <td>Valsartan</td>\n",
       "      <td>Left Ventricular Dysfunction</td>\n",
       "      <td>\"It has no side effect, I take it in combinati...</td>\n",
       "      <td>9.0</td>\n",
       "      <td>May 20, 2012</td>\n",
       "      <td>27</td>\n",
       "    </tr>\n",
       "    <tr>\n",
       "      <th>1</th>\n",
       "      <td>95260</td>\n",
       "      <td>Guanfacine</td>\n",
       "      <td>ADHD</td>\n",
       "      <td>\"My son is halfway through his fourth week of ...</td>\n",
       "      <td>8.0</td>\n",
       "      <td>April 27, 2010</td>\n",
       "      <td>192</td>\n",
       "    </tr>\n",
       "    <tr>\n",
       "      <th>2</th>\n",
       "      <td>92703</td>\n",
       "      <td>Lybrel</td>\n",
       "      <td>Birth Control</td>\n",
       "      <td>\"I used to take another oral contraceptive, wh...</td>\n",
       "      <td>5.0</td>\n",
       "      <td>December 14, 2009</td>\n",
       "      <td>17</td>\n",
       "    </tr>\n",
       "    <tr>\n",
       "      <th>3</th>\n",
       "      <td>138000</td>\n",
       "      <td>Ortho Evra</td>\n",
       "      <td>Birth Control</td>\n",
       "      <td>\"This is my first time using any form of birth...</td>\n",
       "      <td>8.0</td>\n",
       "      <td>November 3, 2015</td>\n",
       "      <td>10</td>\n",
       "    </tr>\n",
       "    <tr>\n",
       "      <th>4</th>\n",
       "      <td>35696</td>\n",
       "      <td>Buprenorphine / naloxone</td>\n",
       "      <td>Opiate Dependence</td>\n",
       "      <td>\"Suboxone has completely turned my life around...</td>\n",
       "      <td>9.0</td>\n",
       "      <td>November 27, 2016</td>\n",
       "      <td>37</td>\n",
       "    </tr>\n",
       "  </tbody>\n",
       "</table>\n",
       "</div>"
      ],
      "text/plain": [
       "   Unnamed: 0                  drugName                     condition  \\\n",
       "0      206461                 Valsartan  Left Ventricular Dysfunction   \n",
       "1       95260                Guanfacine                          ADHD   \n",
       "2       92703                    Lybrel                 Birth Control   \n",
       "3      138000                Ortho Evra                 Birth Control   \n",
       "4       35696  Buprenorphine / naloxone             Opiate Dependence   \n",
       "\n",
       "                                              review  rating  \\\n",
       "0  \"It has no side effect, I take it in combinati...     9.0   \n",
       "1  \"My son is halfway through his fourth week of ...     8.0   \n",
       "2  \"I used to take another oral contraceptive, wh...     5.0   \n",
       "3  \"This is my first time using any form of birth...     8.0   \n",
       "4  \"Suboxone has completely turned my life around...     9.0   \n",
       "\n",
       "                date  usefulCount  \n",
       "0       May 20, 2012           27  \n",
       "1     April 27, 2010          192  \n",
       "2  December 14, 2009           17  \n",
       "3   November 3, 2015           10  \n",
       "4  November 27, 2016           37  "
      ]
     },
     "execution_count": 6,
     "metadata": {},
     "output_type": "execute_result"
    }
   ],
   "source": [
    "print(data.shape)\n",
    "data.head()"
   ]
  },
  {
   "cell_type": "code",
   "execution_count": 7,
   "id": "b28f45c0",
   "metadata": {},
   "outputs": [
    {
     "name": "stdout",
     "output_type": "stream",
     "text": [
      "(161297, 6)\n"
     ]
    },
    {
     "data": {
      "text/html": [
       "<div>\n",
       "<style scoped>\n",
       "    .dataframe tbody tr th:only-of-type {\n",
       "        vertical-align: middle;\n",
       "    }\n",
       "\n",
       "    .dataframe tbody tr th {\n",
       "        vertical-align: top;\n",
       "    }\n",
       "\n",
       "    .dataframe thead th {\n",
       "        text-align: right;\n",
       "    }\n",
       "</style>\n",
       "<table border=\"1\" class=\"dataframe\">\n",
       "  <thead>\n",
       "    <tr style=\"text-align: right;\">\n",
       "      <th></th>\n",
       "      <th>drugName</th>\n",
       "      <th>condition</th>\n",
       "      <th>review</th>\n",
       "      <th>rating</th>\n",
       "      <th>date</th>\n",
       "      <th>usefulCount</th>\n",
       "    </tr>\n",
       "  </thead>\n",
       "  <tbody>\n",
       "    <tr>\n",
       "      <th>0</th>\n",
       "      <td>Valsartan</td>\n",
       "      <td>Left Ventricular Dysfunction</td>\n",
       "      <td>\"It has no side effect, I take it in combinati...</td>\n",
       "      <td>9.0</td>\n",
       "      <td>May 20, 2012</td>\n",
       "      <td>27</td>\n",
       "    </tr>\n",
       "    <tr>\n",
       "      <th>1</th>\n",
       "      <td>Guanfacine</td>\n",
       "      <td>ADHD</td>\n",
       "      <td>\"My son is halfway through his fourth week of ...</td>\n",
       "      <td>8.0</td>\n",
       "      <td>April 27, 2010</td>\n",
       "      <td>192</td>\n",
       "    </tr>\n",
       "    <tr>\n",
       "      <th>2</th>\n",
       "      <td>Lybrel</td>\n",
       "      <td>Birth Control</td>\n",
       "      <td>\"I used to take another oral contraceptive, wh...</td>\n",
       "      <td>5.0</td>\n",
       "      <td>December 14, 2009</td>\n",
       "      <td>17</td>\n",
       "    </tr>\n",
       "    <tr>\n",
       "      <th>3</th>\n",
       "      <td>Ortho Evra</td>\n",
       "      <td>Birth Control</td>\n",
       "      <td>\"This is my first time using any form of birth...</td>\n",
       "      <td>8.0</td>\n",
       "      <td>November 3, 2015</td>\n",
       "      <td>10</td>\n",
       "    </tr>\n",
       "    <tr>\n",
       "      <th>4</th>\n",
       "      <td>Buprenorphine / naloxone</td>\n",
       "      <td>Opiate Dependence</td>\n",
       "      <td>\"Suboxone has completely turned my life around...</td>\n",
       "      <td>9.0</td>\n",
       "      <td>November 27, 2016</td>\n",
       "      <td>37</td>\n",
       "    </tr>\n",
       "  </tbody>\n",
       "</table>\n",
       "</div>"
      ],
      "text/plain": [
       "                   drugName                     condition  \\\n",
       "0                 Valsartan  Left Ventricular Dysfunction   \n",
       "1                Guanfacine                          ADHD   \n",
       "2                    Lybrel                 Birth Control   \n",
       "3                Ortho Evra                 Birth Control   \n",
       "4  Buprenorphine / naloxone             Opiate Dependence   \n",
       "\n",
       "                                              review  rating  \\\n",
       "0  \"It has no side effect, I take it in combinati...     9.0   \n",
       "1  \"My son is halfway through his fourth week of ...     8.0   \n",
       "2  \"I used to take another oral contraceptive, wh...     5.0   \n",
       "3  \"This is my first time using any form of birth...     8.0   \n",
       "4  \"Suboxone has completely turned my life around...     9.0   \n",
       "\n",
       "                date  usefulCount  \n",
       "0       May 20, 2012           27  \n",
       "1     April 27, 2010          192  \n",
       "2  December 14, 2009           17  \n",
       "3   November 3, 2015           10  \n",
       "4  November 27, 2016           37  "
      ]
     },
     "execution_count": 7,
     "metadata": {},
     "output_type": "execute_result"
    }
   ],
   "source": [
    "data= data.drop('Unnamed: 0', axis=1)\n",
    "print(data.shape)\n",
    "data.head()"
   ]
  },
  {
   "cell_type": "code",
   "execution_count": 8,
   "id": "1e779626",
   "metadata": {},
   "outputs": [
    {
     "data": {
      "text/plain": [
       "drugName        object\n",
       "condition       object\n",
       "review          object\n",
       "rating         float64\n",
       "date            object\n",
       "usefulCount      int64\n",
       "dtype: object"
      ]
     },
     "execution_count": 8,
     "metadata": {},
     "output_type": "execute_result"
    }
   ],
   "source": [
    "#check data types\n",
    "data.dtypes"
   ]
  },
  {
   "cell_type": "code",
   "execution_count": 9,
   "id": "5e35e5a0",
   "metadata": {},
   "outputs": [
    {
     "data": {
      "text/plain": [
       "drugName         0\n",
       "condition      899\n",
       "review           0\n",
       "rating           0\n",
       "date             0\n",
       "usefulCount      0\n",
       "dtype: int64"
      ]
     },
     "execution_count": 9,
     "metadata": {},
     "output_type": "execute_result"
    }
   ],
   "source": [
    "#check for any NAs\n",
    "data.isnull().sum()"
   ]
  },
  {
   "cell_type": "markdown",
   "id": "d01f664e",
   "metadata": {},
   "source": [
    "Nulls were only found in the condition column. Will look into the rows that have the null values to determine what to do with the rows or columns."
   ]
  },
  {
   "cell_type": "code",
   "execution_count": 10,
   "id": "bf87b57d",
   "metadata": {},
   "outputs": [
    {
     "data": {
      "text/html": [
       "<div>\n",
       "<style scoped>\n",
       "    .dataframe tbody tr th:only-of-type {\n",
       "        vertical-align: middle;\n",
       "    }\n",
       "\n",
       "    .dataframe tbody tr th {\n",
       "        vertical-align: top;\n",
       "    }\n",
       "\n",
       "    .dataframe thead th {\n",
       "        text-align: right;\n",
       "    }\n",
       "</style>\n",
       "<table border=\"1\" class=\"dataframe\">\n",
       "  <thead>\n",
       "    <tr style=\"text-align: right;\">\n",
       "      <th></th>\n",
       "      <th>drugName</th>\n",
       "      <th>condition</th>\n",
       "      <th>review</th>\n",
       "      <th>rating</th>\n",
       "      <th>date</th>\n",
       "      <th>usefulCount</th>\n",
       "    </tr>\n",
       "  </thead>\n",
       "  <tbody>\n",
       "    <tr>\n",
       "      <th>30</th>\n",
       "      <td>Azithromycin</td>\n",
       "      <td>NaN</td>\n",
       "      <td>\"Very good response. It is so useful for me. \"</td>\n",
       "      <td>10.0</td>\n",
       "      <td>August 18, 2010</td>\n",
       "      <td>1</td>\n",
       "    </tr>\n",
       "    <tr>\n",
       "      <th>148</th>\n",
       "      <td>Urea</td>\n",
       "      <td>NaN</td>\n",
       "      <td>\"Accurate information.\"</td>\n",
       "      <td>10.0</td>\n",
       "      <td>July 2, 2011</td>\n",
       "      <td>13</td>\n",
       "    </tr>\n",
       "    <tr>\n",
       "      <th>488</th>\n",
       "      <td>Doxepin</td>\n",
       "      <td>NaN</td>\n",
       "      <td>\"So far so good. Good for me and I can take it...</td>\n",
       "      <td>10.0</td>\n",
       "      <td>October 20, 2010</td>\n",
       "      <td>25</td>\n",
       "    </tr>\n",
       "    <tr>\n",
       "      <th>733</th>\n",
       "      <td>Ethinyl estradiol / norgestimate</td>\n",
       "      <td>NaN</td>\n",
       "      <td>\"I haven&amp;#039;t been on it for a long time and...</td>\n",
       "      <td>8.0</td>\n",
       "      <td>January 24, 2011</td>\n",
       "      <td>1</td>\n",
       "    </tr>\n",
       "    <tr>\n",
       "      <th>851</th>\n",
       "      <td>Medroxyprogesterone</td>\n",
       "      <td>NaN</td>\n",
       "      <td>\"I started the shot in July 2015 and ended in ...</td>\n",
       "      <td>6.0</td>\n",
       "      <td>March 23, 2017</td>\n",
       "      <td>1</td>\n",
       "    </tr>\n",
       "    <tr>\n",
       "      <th>1014</th>\n",
       "      <td>Acetaminophen / caffeine</td>\n",
       "      <td>NaN</td>\n",
       "      <td>\"I get migraine and have found out by taking e...</td>\n",
       "      <td>10.0</td>\n",
       "      <td>February 19, 2012</td>\n",
       "      <td>7</td>\n",
       "    </tr>\n",
       "    <tr>\n",
       "      <th>1124</th>\n",
       "      <td>Tavaborole</td>\n",
       "      <td>NaN</td>\n",
       "      <td>\"I have struggled with nail for 8 or ten years...</td>\n",
       "      <td>10.0</td>\n",
       "      <td>May 21, 2016</td>\n",
       "      <td>6</td>\n",
       "    </tr>\n",
       "    <tr>\n",
       "      <th>1163</th>\n",
       "      <td>Acetaminophen / butalbital / caffeine / codeine</td>\n",
       "      <td>NaN</td>\n",
       "      <td>\"I found that while this medicine does relieve...</td>\n",
       "      <td>5.0</td>\n",
       "      <td>December 11, 2011</td>\n",
       "      <td>3</td>\n",
       "    </tr>\n",
       "    <tr>\n",
       "      <th>1253</th>\n",
       "      <td>Ethinyl estradiol / norethindrone</td>\n",
       "      <td>NaN</td>\n",
       "      <td>\"I started Loestrin and within two months I ex...</td>\n",
       "      <td>4.0</td>\n",
       "      <td>April 28, 2011</td>\n",
       "      <td>0</td>\n",
       "    </tr>\n",
       "    <tr>\n",
       "      <th>1267</th>\n",
       "      <td>Conjugated estrogens</td>\n",
       "      <td>NaN</td>\n",
       "      <td>\"I had to have a total hysterectomy in 2009 in...</td>\n",
       "      <td>10.0</td>\n",
       "      <td>June 11, 2016</td>\n",
       "      <td>27</td>\n",
       "    </tr>\n",
       "    <tr>\n",
       "      <th>1323</th>\n",
       "      <td>Cyclobenzaprine</td>\n",
       "      <td>NaN</td>\n",
       "      <td>\"Took for lower back pain. Definitely made me ...</td>\n",
       "      <td>1.0</td>\n",
       "      <td>November 12, 2013</td>\n",
       "      <td>38</td>\n",
       "    </tr>\n",
       "    <tr>\n",
       "      <th>2075</th>\n",
       "      <td>Amphetamine / dextroamphetamine</td>\n",
       "      <td>NaN</td>\n",
       "      <td>\"I am a 46 yr old female and have taken Addera...</td>\n",
       "      <td>9.0</td>\n",
       "      <td>January 22, 2011</td>\n",
       "      <td>15</td>\n",
       "    </tr>\n",
       "    <tr>\n",
       "      <th>2151</th>\n",
       "      <td>Omalizumab</td>\n",
       "      <td>NaN</td>\n",
       "      <td>\"After moving into a new home, secretly harbor...</td>\n",
       "      <td>10.0</td>\n",
       "      <td>September 12, 2009</td>\n",
       "      <td>18</td>\n",
       "    </tr>\n",
       "    <tr>\n",
       "      <th>2259</th>\n",
       "      <td>Desogestrel / ethinyl estradiol</td>\n",
       "      <td>NaN</td>\n",
       "      <td>\"I switched to Enskyce from Reclipsen for cost...</td>\n",
       "      <td>6.0</td>\n",
       "      <td>July 6, 2014</td>\n",
       "      <td>21</td>\n",
       "    </tr>\n",
       "    <tr>\n",
       "      <th>2961</th>\n",
       "      <td>Etonogestrel</td>\n",
       "      <td>NaN</td>\n",
       "      <td>\"I just want to know how long people are on th...</td>\n",
       "      <td>1.0</td>\n",
       "      <td>February 13, 2017</td>\n",
       "      <td>1</td>\n",
       "    </tr>\n",
       "    <tr>\n",
       "      <th>3017</th>\n",
       "      <td>Efavirenz / emtricitabine / tenofovir</td>\n",
       "      <td>NaN</td>\n",
       "      <td>\"I&amp;#039;ve been taking Atripla from my diagnos...</td>\n",
       "      <td>10.0</td>\n",
       "      <td>November 21, 2009</td>\n",
       "      <td>1</td>\n",
       "    </tr>\n",
       "    <tr>\n",
       "      <th>3161</th>\n",
       "      <td>Pantoprazole</td>\n",
       "      <td>NaN</td>\n",
       "      <td>\"I rate it a 10. This is the ONLY drug that he...</td>\n",
       "      <td>10.0</td>\n",
       "      <td>March 22, 2009</td>\n",
       "      <td>14</td>\n",
       "    </tr>\n",
       "    <tr>\n",
       "      <th>3325</th>\n",
       "      <td>Ethinyl estradiol / norgestimate</td>\n",
       "      <td>NaN</td>\n",
       "      <td>\"I have absolutely no complaints.  I switched ...</td>\n",
       "      <td>8.0</td>\n",
       "      <td>January 7, 2012</td>\n",
       "      <td>2</td>\n",
       "    </tr>\n",
       "    <tr>\n",
       "      <th>3408</th>\n",
       "      <td>Milnacipran</td>\n",
       "      <td>NaN</td>\n",
       "      <td>\"I have been taking Savella for about a week n...</td>\n",
       "      <td>8.0</td>\n",
       "      <td>April 29, 2011</td>\n",
       "      <td>3</td>\n",
       "    </tr>\n",
       "    <tr>\n",
       "      <th>3823</th>\n",
       "      <td>Bupropion / naltrexone</td>\n",
       "      <td>NaN</td>\n",
       "      <td>\"I have been steadily gaining weight for years...</td>\n",
       "      <td>9.0</td>\n",
       "      <td>July 15, 2015</td>\n",
       "      <td>20</td>\n",
       "    </tr>\n",
       "    <tr>\n",
       "      <th>3904</th>\n",
       "      <td>Ethinyl estradiol / norethindrone</td>\n",
       "      <td>NaN</td>\n",
       "      <td>\"I have tried a few birth controls and so far ...</td>\n",
       "      <td>7.0</td>\n",
       "      <td>June 27, 2011</td>\n",
       "      <td>0</td>\n",
       "    </tr>\n",
       "    <tr>\n",
       "      <th>4032</th>\n",
       "      <td>Testosterone</td>\n",
       "      <td>NaN</td>\n",
       "      <td>\"48 yo using for 1 month. Was falling asleep a...</td>\n",
       "      <td>8.0</td>\n",
       "      <td>January 1, 2012</td>\n",
       "      <td>18</td>\n",
       "    </tr>\n",
       "    <tr>\n",
       "      <th>4089</th>\n",
       "      <td>Levonorgestrel</td>\n",
       "      <td>NaN</td>\n",
       "      <td>\"Mirena has given me migraine headaches everyd...</td>\n",
       "      <td>2.0</td>\n",
       "      <td>January 15, 2011</td>\n",
       "      <td>0</td>\n",
       "    </tr>\n",
       "    <tr>\n",
       "      <th>4315</th>\n",
       "      <td>Zolpidem</td>\n",
       "      <td>NaN</td>\n",
       "      <td>\"My problem isn&amp;#039;t getting to sleep..it&amp;#0...</td>\n",
       "      <td>9.0</td>\n",
       "      <td>September 1, 2014</td>\n",
       "      <td>14</td>\n",
       "    </tr>\n",
       "    <tr>\n",
       "      <th>4340</th>\n",
       "      <td>Medroxyprogesterone</td>\n",
       "      <td>NaN</td>\n",
       "      <td>\"I have been on Depo for a little over a year ...</td>\n",
       "      <td>3.0</td>\n",
       "      <td>June 10, 2011</td>\n",
       "      <td>1</td>\n",
       "    </tr>\n",
       "  </tbody>\n",
       "</table>\n",
       "</div>"
      ],
      "text/plain": [
       "                                             drugName condition  \\\n",
       "30                                       Azithromycin       NaN   \n",
       "148                                              Urea       NaN   \n",
       "488                                           Doxepin       NaN   \n",
       "733                  Ethinyl estradiol / norgestimate       NaN   \n",
       "851                               Medroxyprogesterone       NaN   \n",
       "1014                         Acetaminophen / caffeine       NaN   \n",
       "1124                                       Tavaborole       NaN   \n",
       "1163  Acetaminophen / butalbital / caffeine / codeine       NaN   \n",
       "1253                Ethinyl estradiol / norethindrone       NaN   \n",
       "1267                             Conjugated estrogens       NaN   \n",
       "1323                                  Cyclobenzaprine       NaN   \n",
       "2075                  Amphetamine / dextroamphetamine       NaN   \n",
       "2151                                       Omalizumab       NaN   \n",
       "2259                  Desogestrel / ethinyl estradiol       NaN   \n",
       "2961                                     Etonogestrel       NaN   \n",
       "3017            Efavirenz / emtricitabine / tenofovir       NaN   \n",
       "3161                                     Pantoprazole       NaN   \n",
       "3325                 Ethinyl estradiol / norgestimate       NaN   \n",
       "3408                                      Milnacipran       NaN   \n",
       "3823                           Bupropion / naltrexone       NaN   \n",
       "3904                Ethinyl estradiol / norethindrone       NaN   \n",
       "4032                                     Testosterone       NaN   \n",
       "4089                                   Levonorgestrel       NaN   \n",
       "4315                                         Zolpidem       NaN   \n",
       "4340                              Medroxyprogesterone       NaN   \n",
       "\n",
       "                                                 review  rating  \\\n",
       "30       \"Very good response. It is so useful for me. \"    10.0   \n",
       "148                             \"Accurate information.\"    10.0   \n",
       "488   \"So far so good. Good for me and I can take it...    10.0   \n",
       "733   \"I haven&#039;t been on it for a long time and...     8.0   \n",
       "851   \"I started the shot in July 2015 and ended in ...     6.0   \n",
       "1014  \"I get migraine and have found out by taking e...    10.0   \n",
       "1124  \"I have struggled with nail for 8 or ten years...    10.0   \n",
       "1163  \"I found that while this medicine does relieve...     5.0   \n",
       "1253  \"I started Loestrin and within two months I ex...     4.0   \n",
       "1267  \"I had to have a total hysterectomy in 2009 in...    10.0   \n",
       "1323  \"Took for lower back pain. Definitely made me ...     1.0   \n",
       "2075  \"I am a 46 yr old female and have taken Addera...     9.0   \n",
       "2151  \"After moving into a new home, secretly harbor...    10.0   \n",
       "2259  \"I switched to Enskyce from Reclipsen for cost...     6.0   \n",
       "2961  \"I just want to know how long people are on th...     1.0   \n",
       "3017  \"I&#039;ve been taking Atripla from my diagnos...    10.0   \n",
       "3161  \"I rate it a 10. This is the ONLY drug that he...    10.0   \n",
       "3325  \"I have absolutely no complaints.  I switched ...     8.0   \n",
       "3408  \"I have been taking Savella for about a week n...     8.0   \n",
       "3823  \"I have been steadily gaining weight for years...     9.0   \n",
       "3904  \"I have tried a few birth controls and so far ...     7.0   \n",
       "4032  \"48 yo using for 1 month. Was falling asleep a...     8.0   \n",
       "4089  \"Mirena has given me migraine headaches everyd...     2.0   \n",
       "4315  \"My problem isn&#039;t getting to sleep..it&#0...     9.0   \n",
       "4340  \"I have been on Depo for a little over a year ...     3.0   \n",
       "\n",
       "                    date  usefulCount  \n",
       "30       August 18, 2010            1  \n",
       "148         July 2, 2011           13  \n",
       "488     October 20, 2010           25  \n",
       "733     January 24, 2011            1  \n",
       "851       March 23, 2017            1  \n",
       "1014   February 19, 2012            7  \n",
       "1124        May 21, 2016            6  \n",
       "1163   December 11, 2011            3  \n",
       "1253      April 28, 2011            0  \n",
       "1267       June 11, 2016           27  \n",
       "1323   November 12, 2013           38  \n",
       "2075    January 22, 2011           15  \n",
       "2151  September 12, 2009           18  \n",
       "2259        July 6, 2014           21  \n",
       "2961   February 13, 2017            1  \n",
       "3017   November 21, 2009            1  \n",
       "3161      March 22, 2009           14  \n",
       "3325     January 7, 2012            2  \n",
       "3408      April 29, 2011            3  \n",
       "3823       July 15, 2015           20  \n",
       "3904       June 27, 2011            0  \n",
       "4032     January 1, 2012           18  \n",
       "4089    January 15, 2011            0  \n",
       "4315   September 1, 2014           14  \n",
       "4340       June 10, 2011            1  "
      ]
     },
     "execution_count": 10,
     "metadata": {},
     "output_type": "execute_result"
    }
   ],
   "source": [
    "#look at first 25 null values\n",
    "data[data['condition'].isna()][:25]"
   ]
  },
  {
   "cell_type": "code",
   "execution_count": 11,
   "id": "c04e1573",
   "metadata": {},
   "outputs": [
    {
     "data": {
      "text/plain": [
       "array(['Left Ventricular Dysfunction', 'ADHD', 'Birth Control',\n",
       "       'Opiate Dependence', 'Benign Prostatic Hyperplasia',\n",
       "       'Emergency Contraception', 'Bipolar Disorde', 'Epilepsy',\n",
       "       'Migraine Prevention', 'Depression', \"Crohn's Disease\", 'Cough',\n",
       "       'Obesity', 'Urinary Tract Infection', 'ibromyalgia',\n",
       "       'Chronic Myelogenous Leukemia', 'HIV Infection', 'Insomnia',\n",
       "       'Rheumatoid Arthritis', 'Vaginal Yeast Infection',\n",
       "       'Chlamydia Infection', 'Hirsutism', 'Panic Disorde', 'Migraine',\n",
       "       nan, 'Pain', 'Irritable Bowel Syndrome', 'Osteoarthritis',\n",
       "       'Constipation', 'Bowel Preparation', 'Psychosis', 'Muscle Spasm',\n",
       "       'Hepatitis C', 'Overactive Bladde', 'Diabetes, Type 2',\n",
       "       'Asthma, Maintenance', 'Non-Small Cell Lung Cance',\n",
       "       'Schizophrenia', 'Dysuria', 'Smoking Cessation', 'Anxiety', 'Acne',\n",
       "       'emale Infertility', 'Constipation, Acute',\n",
       "       'Constipation, Drug Induced', 'Erectile Dysfunction',\n",
       "       'Trigeminal Neuralgia', 'Underactive Thyroid', 'Chronic Pain',\n",
       "       'Atrophic Vaginitis', 'Skin and Structure Infection', 'Tinnitus',\n",
       "       'Major Depressive Disorde', 'Anxiety and Stress', 'Rosacea',\n",
       "       'High Blood Pressure',\n",
       "       '2</span> users found this comment helpful.',\n",
       "       'Restless Legs Syndrome',\n",
       "       'Osteolytic Bone Metastases of Solid Tumors', 'Bronchitis',\n",
       "       'Skin or Soft Tissue Infection', 'Obsessive Compulsive Disorde',\n",
       "       'Endometriosis', 'Keratoconjunctivitis Sicca', 'Breakthrough Pain',\n",
       "       'Seizures', 'Neuropathic Pain', 'Sedation', 'Menstrual Disorders',\n",
       "       'Allergic Rhinitis', 'Anesthesia',\n",
       "       'Undifferentiated Connective Tissue Disease', 'Diabetes, Type 1',\n",
       "       'Abnormal Uterine Bleeding', 'Weight Loss'], dtype=object)"
      ]
     },
     "execution_count": 11,
     "metadata": {},
     "output_type": "execute_result"
    }
   ],
   "source": [
    "#Look into types of conditions in data set\n",
    "data['condition'].unique()[:75]"
   ]
  },
  {
   "cell_type": "markdown",
   "id": "31199887",
   "metadata": {},
   "source": [
    "The conditions are a mix of chronic and acute conditions. Medications are sometimes not directly linked to specific conditions or they are used to treat multiple. There is also the case where a diagnosis is unknown, but medications are prescribed to help with symptoms and to see if it will help a patient's symptoms.\n",
    "\n",
    "There is also the possibility that some people may not have wanted to list their conditions when leaving a medication review.\n",
    "\n",
    "For these reasons, will fill any null values with \"Unknown' as a category as there is still a review, medication name, and rating available."
   ]
  },
  {
   "cell_type": "markdown",
   "id": "79ce8042",
   "metadata": {},
   "source": [
    "There are also statements that are classified as conditions, but are not. This could have been mistakingly placed due to the language within them. Could possibly be from parsing data from the original source of the data.\n",
    "\n",
    "Will also fill any columns with these statements with \"Unknown\" since they have needed information."
   ]
  },
  {
   "cell_type": "code",
   "execution_count": 15,
   "id": "a12d570d",
   "metadata": {},
   "outputs": [
    {
     "name": "stderr",
     "output_type": "stream",
     "text": [
      "C:\\Users\\625737\\AppData\\Local\\Temp\\ipykernel_33236\\2353648449.py:1: FutureWarning: The default value of regex will change from True to False in a future version.\n",
      "  data['condition']= data.condition.str.replace(r'(^.*users found this comment helpful.*$)', 'Unknown')\n"
     ]
    },
    {
     "data": {
      "text/plain": [
       "(161297, 6)"
      ]
     },
     "execution_count": 15,
     "metadata": {},
     "output_type": "execute_result"
    }
   ],
   "source": [
    "data['condition']= data.condition.str.replace(r'(^.*users found this comment helpful.*$)', 'Unknown')\n",
    "data.shape\n",
    "#shape did not change"
   ]
  },
  {
   "cell_type": "code",
   "execution_count": 16,
   "id": "c3c98073",
   "metadata": {},
   "outputs": [
    {
     "name": "stdout",
     "output_type": "stream",
     "text": [
      "[]\n"
     ]
    }
   ],
   "source": [
    "# will check for empty strings in review\n",
    "blanks = []\n",
    "\n",
    "for review in data.itertuples(): \n",
    "    if type(review)==str:            \n",
    "        if review.isspace():         \n",
    "            blanks.append(i)    \n",
    "\n",
    "print(blanks)\n",
    "\n",
    "#no blank spaces in string"
   ]
  },
  {
   "cell_type": "code",
   "execution_count": 17,
   "id": "a89fab20",
   "metadata": {},
   "outputs": [
    {
     "name": "stdout",
     "output_type": "stream",
     "text": [
      "812\n",
      "3436\n"
     ]
    }
   ],
   "source": [
    "print(data['condition'].nunique())\n",
    "print(data['drugName'].nunique())"
   ]
  },
  {
   "cell_type": "markdown",
   "id": "7be44a52",
   "metadata": {},
   "source": [
    "Will look further into numerical data in the dataset."
   ]
  },
  {
   "cell_type": "code",
   "execution_count": 18,
   "id": "2ebe66ff",
   "metadata": {},
   "outputs": [
    {
     "data": {
      "text/html": [
       "<div>\n",
       "<style scoped>\n",
       "    .dataframe tbody tr th:only-of-type {\n",
       "        vertical-align: middle;\n",
       "    }\n",
       "\n",
       "    .dataframe tbody tr th {\n",
       "        vertical-align: top;\n",
       "    }\n",
       "\n",
       "    .dataframe thead th {\n",
       "        text-align: right;\n",
       "    }\n",
       "</style>\n",
       "<table border=\"1\" class=\"dataframe\">\n",
       "  <thead>\n",
       "    <tr style=\"text-align: right;\">\n",
       "      <th></th>\n",
       "      <th>rating</th>\n",
       "      <th>usefulCount</th>\n",
       "    </tr>\n",
       "  </thead>\n",
       "  <tbody>\n",
       "    <tr>\n",
       "      <th>count</th>\n",
       "      <td>161297.000000</td>\n",
       "      <td>161297.000000</td>\n",
       "    </tr>\n",
       "    <tr>\n",
       "      <th>mean</th>\n",
       "      <td>6.994377</td>\n",
       "      <td>28.004755</td>\n",
       "    </tr>\n",
       "    <tr>\n",
       "      <th>std</th>\n",
       "      <td>3.272329</td>\n",
       "      <td>36.403742</td>\n",
       "    </tr>\n",
       "    <tr>\n",
       "      <th>min</th>\n",
       "      <td>1.000000</td>\n",
       "      <td>0.000000</td>\n",
       "    </tr>\n",
       "    <tr>\n",
       "      <th>25%</th>\n",
       "      <td>5.000000</td>\n",
       "      <td>6.000000</td>\n",
       "    </tr>\n",
       "    <tr>\n",
       "      <th>50%</th>\n",
       "      <td>8.000000</td>\n",
       "      <td>16.000000</td>\n",
       "    </tr>\n",
       "    <tr>\n",
       "      <th>75%</th>\n",
       "      <td>10.000000</td>\n",
       "      <td>36.000000</td>\n",
       "    </tr>\n",
       "    <tr>\n",
       "      <th>max</th>\n",
       "      <td>10.000000</td>\n",
       "      <td>1291.000000</td>\n",
       "    </tr>\n",
       "  </tbody>\n",
       "</table>\n",
       "</div>"
      ],
      "text/plain": [
       "              rating    usefulCount\n",
       "count  161297.000000  161297.000000\n",
       "mean        6.994377      28.004755\n",
       "std         3.272329      36.403742\n",
       "min         1.000000       0.000000\n",
       "25%         5.000000       6.000000\n",
       "50%         8.000000      16.000000\n",
       "75%        10.000000      36.000000\n",
       "max        10.000000    1291.000000"
      ]
     },
     "execution_count": 18,
     "metadata": {},
     "output_type": "execute_result"
    }
   ],
   "source": [
    "data.describe()"
   ]
  },
  {
   "cell_type": "markdown",
   "id": "77e71053",
   "metadata": {},
   "source": [
    "A majority of the medication satisfaction ratings are above 5/10. Will look at rating distribution."
   ]
  },
  {
   "cell_type": "code",
   "execution_count": 19,
   "id": "bc933c13",
   "metadata": {},
   "outputs": [
    {
     "data": {
      "text/plain": [
       "Text(0, 0.5, 'Frequency')"
      ]
     },
     "execution_count": 19,
     "metadata": {},
     "output_type": "execute_result"
    },
    {
     "data": {
      "image/png": "[encoded data removed]",
      "text/plain": [
       "<Figure size 432x288 with 1 Axes>"
      ]
     },
     "metadata": {
      "needs_background": "light"
     },
     "output_type": "display_data"
    }
   ],
   "source": [
    "plt.hist(data['rating'])\n",
    "plt.title('Rating Distribution')\n",
    "plt.xlabel('Rating Scale')\n",
    "plt.ylabel('Frequency')"
   ]
  },
  {
   "cell_type": "code",
   "execution_count": 20,
   "id": "468e2d3a",
   "metadata": {},
   "outputs": [
    {
     "data": {
      "text/plain": [
       "array([ 9.,  8.,  5.,  2.,  1., 10.,  4.,  3.,  7.,  6.])"
      ]
     },
     "execution_count": 20,
     "metadata": {},
     "output_type": "execute_result"
    }
   ],
   "source": [
    "data['rating'].unique()"
   ]
  },
  {
   "cell_type": "code",
   "execution_count": 21,
   "id": "85ba498a",
   "metadata": {},
   "outputs": [
    {
     "data": {
      "text/plain": [
       "4.0      5012\n",
       "6.0      6343\n",
       "3.0      6513\n",
       "2.0      6931\n",
       "5.0      8013\n",
       "7.0      9456\n",
       "8.0     18890\n",
       "1.0     21619\n",
       "9.0     27531\n",
       "10.0    50989\n",
       "Name: rating, dtype: int64"
      ]
     },
     "execution_count": 21,
     "metadata": {},
     "output_type": "execute_result"
    }
   ],
   "source": [
    "data['rating'].value_counts(ascending=True)\n",
    "#can see that there are very strong reactions"
   ]
  },
  {
   "cell_type": "code",
   "execution_count": 22,
   "id": "4b7ee0a2",
   "metadata": {},
   "outputs": [
    {
     "data": {
      "text/plain": [
       "10.0    0.316119\n",
       "9.0     0.170685\n",
       "1.0     0.134032\n",
       "8.0     0.117113\n",
       "7.0     0.058625\n",
       "5.0     0.049679\n",
       "2.0     0.042970\n",
       "3.0     0.040379\n",
       "6.0     0.039325\n",
       "4.0     0.031073\n",
       "Name: rating, dtype: float64"
      ]
     },
     "execution_count": 22,
     "metadata": {},
     "output_type": "execute_result"
    }
   ],
   "source": [
    "data['rating'].value_counts(normalize=True)"
   ]
  },
  {
   "cell_type": "markdown",
   "id": "b5ca0ea5",
   "metadata": {},
   "source": [
    "Visualize the more common words in all the reviews to also make note of any words that can be added as a stop word."
   ]
  },
  {
   "cell_type": "code",
   "execution_count": 23,
   "id": "39de5e5c",
   "metadata": {},
   "outputs": [
    {
     "data": {
      "image/png": "[encoded data removed]",
      "text/plain": [
       "<Figure size 576x576 with 1 Axes>"
      ]
     },
     "metadata": {
      "needs_background": "light"
     },
     "output_type": "display_data"
    }
   ],
   "source": [
    "def wordCloud_generator(data, title=None):\n",
    "    wordcloud = WordCloud(width = 800, height = 800,\n",
    "                          background_color ='black',\n",
    "                          min_font_size = 10\n",
    "                         ).generate(\" \".join(data.values))                      \n",
    "    plt.figure(figsize = (8, 8), facecolor = None) \n",
    "    plt.imshow(wordcloud, interpolation='bilinear') \n",
    "    plt.axis(\"off\") \n",
    "    plt.tight_layout(pad = 0) \n",
    "    plt.title(title,fontsize=30)\n",
    "    plt.show()\n",
    "wordCloud_generator(data['review'], title=\"Top words in reviews\")"
   ]
  },
  {
   "cell_type": "markdown",
   "id": "c1f79d82",
   "metadata": {},
   "source": [
    "The goal of this project is to predict patient satisfaction star rating of specific drugs using patient reviews.\n",
    "\n",
    "To simplify this, will split the rating into 2 groups; ratings 5 and up as \"good\" and ratings 4 and below as \"bad\"."
   ]
  },
  {
   "cell_type": "code",
   "execution_count": 24,
   "id": "4169ba5b",
   "metadata": {},
   "outputs": [],
   "source": [
    "data['rating_split'] = np.where(data['rating'] >=5, 1, 0)"
   ]
  },
  {
   "cell_type": "markdown",
   "id": "890611ae",
   "metadata": {},
   "source": [
    "Check balance of new column with the 2 rating classes."
   ]
  },
  {
   "cell_type": "code",
   "execution_count": 25,
   "id": "983c10ce",
   "metadata": {},
   "outputs": [
    {
     "data": {
      "text/plain": [
       "<AxesSubplot:xlabel='rating_split'>"
      ]
     },
     "execution_count": 25,
     "metadata": {},
     "output_type": "execute_result"
    },
    {
     "data": {
      "image/png": "[encoded data removed]",
      "text/plain": [
       "<Figure size 432x288 with 1 Axes>"
      ]
     },
     "metadata": {
      "needs_background": "light"
     },
     "output_type": "display_data"
    }
   ],
   "source": [
    "rating= data.groupby(['rating_split']).size()\n",
    "rating.plot.bar(rot=0)"
   ]
  },
  {
   "cell_type": "code",
   "execution_count": 26,
   "id": "c2489990",
   "metadata": {},
   "outputs": [
    {
     "data": {
      "text/plain": [
       "1    121222\n",
       "0     40075\n",
       "Name: rating_split, dtype: int64"
      ]
     },
     "execution_count": 26,
     "metadata": {},
     "output_type": "execute_result"
    }
   ],
   "source": [
    "data['rating_split'].value_counts()"
   ]
  },
  {
   "cell_type": "markdown",
   "id": "65145b4c",
   "metadata": {},
   "source": [
    "Data is imbalanced. Will keep this in mind when building the model and also analyzing the metrics."
   ]
  },
  {
   "cell_type": "markdown",
   "id": "127a9721",
   "metadata": {},
   "source": [
    "# TEXT PREPROCESSING"
   ]
  },
  {
   "cell_type": "markdown",
   "id": "43de6640",
   "metadata": {},
   "source": [
    "Before building the model,the review column text must be preprocessed.\n",
    "\n",
    "Spacy is used in this case to tokenize, remove ending punctuation, remove stop words, and lemmatize each words within each review."
   ]
  },
  {
   "cell_type": "code",
   "execution_count": 68,
   "id": "399248bd",
   "metadata": {},
   "outputs": [],
   "source": [
    "import spacy #load spacy\n",
    "from sklearn.feature_extraction.text import TfidfVectorizer\n",
    "from sklearn.ensemble import RandomForestClassifier\n",
    "from sklearn.model_selection import cross_val_score\n",
    "from sklearn.model_selection import GridSearchCV\n",
    "from sklearn.model_selection import KFold\n",
    "from sklearn.metrics import confusion_matrix\n",
    "from sklearn.metrics import accuracy_score,precision_score,recall_score\n",
    "from nltk.corpus import stopwords\n",
    "from sklearn import metrics"
   ]
  },
  {
   "cell_type": "code",
   "execution_count": 30,
   "id": "25b4530e",
   "metadata": {},
   "outputs": [],
   "source": [
    "nlp = spacy.load(\"en_core_web_lg\", disable=['parser', 'tagger', 'ner'])\n",
    "stops = stopwords.words(\"english\")"
   ]
  },
  {
   "cell_type": "markdown",
   "id": "ce609e7c",
   "metadata": {},
   "source": [
    "Use wordcloud above to determine what stop words can be added that do not add much to the meaning or sentiment of reviews."
   ]
  },
  {
   "cell_type": "code",
   "execution_count": 31,
   "id": "eee3c5da",
   "metadata": {},
   "outputs": [],
   "source": [
    "#add to stop words\n",
    "nlp.Defaults.stop_words.add('mediction')\n",
    "nlp.vocab['medication'].is_stop = True\n",
    "\n",
    "nlp.Defaults.stop_words.add('medicine')\n",
    "nlp.vocab['medicine'].is_stop = True\n",
    "\n",
    "nlp.Defaults.stop_words.add('day')\n",
    "nlp.vocab['day'].is_stop = True\n",
    "\n",
    "nlp.Defaults.stop_words.add('period')\n",
    "nlp.vocab['period'].is_stop = True\n",
    "\n",
    "nlp.Defaults.stop_words.add('month')\n",
    "nlp.vocab['month'].is_stop = True\n",
    "\n",
    "nlp.Defaults.stop_words.add('doctor')\n",
    "nlp.vocab['doctor'].is_stop = True\n",
    "\n",
    "nlp.Defaults.stop_words.add('now')\n",
    "nlp.vocab['now'].is_stop = True\n",
    "\n",
    "nlp.Defaults.stop_words.add('took')\n",
    "nlp.vocab['took'].is_stop = True\n",
    "\n",
    "nlp.Defaults.stop_words.add('hour')\n",
    "nlp.vocab['hour'].is_stop = True\n",
    "\n",
    "nlp.Defaults.stop_words.add('pill')\n",
    "nlp.vocab['pill'].is_stop = True\n",
    "\n",
    "nlp.Defaults.stop_words.add('week')\n",
    "nlp.vocab['week'].is_stop = True"
   ]
  },
  {
   "cell_type": "markdown",
   "id": "851ed065",
   "metadata": {},
   "source": [
    "Create loop to iterate through each review using Spacy and Spacy.tokens attributes"
   ]
  },
  {
   "cell_type": "code",
   "execution_count": 32,
   "id": "3538dff3",
   "metadata": {},
   "outputs": [],
   "source": [
    "def cleanData(doc, stemming = False):\n",
    "    doc = doc.lower()\n",
    "    doc = nlp(doc)\n",
    "    tokens = [tokens.lower_ for tokens in doc]\n",
    "    tokens = [tokens for tokens in doc if (tokens.is_stop == False)]\n",
    "    tokens = [tokens for tokens in tokens if (tokens.is_punct == False)]\n",
    "    tokens = [tokens for tokens in tokens if (tokens.is_right_punct == False)]\n",
    "    tokens = [tokens for tokens in tokens if (tokens.is_left_punct == False)]\n",
    "    final_token = [token.lemma_ for token in tokens]\n",
    "    return \" \".join(final_token)"
   ]
  },
  {
   "cell_type": "code",
   "execution_count": 33,
   "id": "d86eac33",
   "metadata": {},
   "outputs": [
    {
     "name": "stderr",
     "output_type": "stream",
     "text": [
      "C:\\Users\\625737\\Anaconda3\\lib\\site-packages\\spacy\\pipeline\\lemmatizer.py:211: UserWarning: [W108] The rule-based lemmatizer did not find POS annotation for one or more tokens. Check that your pipeline includes components that assign token.pos, typically 'tagger'+'attribute_ruler' or 'morphologizer'.\n",
      "  warnings.warn(Warnings.W108)\n"
     ]
    },
    {
     "data": {
      "text/plain": [
       "'son halfway fourth intuniv concerned began started taking highest dose days hardly bed cranky slept nearly 8 hours drive home school vacation unusual called monday morning said stick days school getting morning days problem free agreeable emotional good thing cranky remembering things overall behavior better \\r\\n tried different medications far effective'"
      ]
     },
     "execution_count": 33,
     "metadata": {},
     "output_type": "execute_result"
    }
   ],
   "source": [
    "cleanData(data['review'][1])"
   ]
  },
  {
   "cell_type": "markdown",
   "id": "ca856138",
   "metadata": {},
   "source": [
    "Special characters are still included within each review. Will leave in since there are some emojis in the reviews."
   ]
  },
  {
   "cell_type": "code",
   "execution_count": 34,
   "id": "fdca2363",
   "metadata": {},
   "outputs": [],
   "source": [
    "#apply loop to review data\n",
    "data['review'] = data['review'].map(lambda x: cleanData(x))"
   ]
  },
  {
   "cell_type": "markdown",
   "id": "54603143",
   "metadata": {},
   "source": [
    "Visualize most common words in positive and negative reviews separately"
   ]
  },
  {
   "cell_type": "code",
   "execution_count": 36,
   "id": "1a972b7d",
   "metadata": {},
   "outputs": [
    {
     "ename": "AttributeError",
     "evalue": "'str' object has no attribute 'values'",
     "output_type": "error",
     "traceback": [
      "\u001b[1;31m---------------------------------------------------------------------------\u001b[0m",
      "\u001b[1;31mAttributeError\u001b[0m                            Traceback (most recent call last)",
      "Input \u001b[1;32mIn [36]\u001b[0m, in \u001b[0;36m<cell line: 4>\u001b[1;34m()\u001b[0m\n\u001b[0;32m      1\u001b[0m positive_words\u001b[38;5;241m=\u001b[39m\u001b[38;5;124m\"\u001b[39m\u001b[38;5;124m \u001b[39m\u001b[38;5;124m\"\u001b[39m\u001b[38;5;241m.\u001b[39mjoin(data[data\u001b[38;5;241m.\u001b[39mrating_split\u001b[38;5;241m==\u001b[39m\u001b[38;5;241m1\u001b[39m][\u001b[38;5;124m'\u001b[39m\u001b[38;5;124mreview\u001b[39m\u001b[38;5;124m'\u001b[39m]\u001b[38;5;241m.\u001b[39mvalues)\n\u001b[0;32m      2\u001b[0m negative_words\u001b[38;5;241m=\u001b[39m\u001b[38;5;124m\"\u001b[39m\u001b[38;5;124m \u001b[39m\u001b[38;5;124m\"\u001b[39m\u001b[38;5;241m.\u001b[39mjoin(data[data\u001b[38;5;241m.\u001b[39mrating_split\u001b[38;5;241m==\u001b[39m\u001b[38;5;241m0\u001b[39m][\u001b[38;5;124m'\u001b[39m\u001b[38;5;124mreview\u001b[39m\u001b[38;5;124m'\u001b[39m]\u001b[38;5;241m.\u001b[39mvalues)\n\u001b[1;32m----> 4\u001b[0m \u001b[43mwordCloud_generator\u001b[49m\u001b[43m(\u001b[49m\u001b[43mpositive_words\u001b[49m\u001b[43m,\u001b[49m\u001b[43m \u001b[49m\u001b[43mtitle\u001b[49m\u001b[38;5;241;43m=\u001b[39;49m\u001b[38;5;124;43m\"\u001b[39;49m\u001b[38;5;124;43mTop words in positive reviews\u001b[39;49m\u001b[38;5;124;43m\"\u001b[39;49m\u001b[43m)\u001b[49m\n\u001b[0;32m      5\u001b[0m wordCloud_generator(negative_words, title\u001b[38;5;241m=\u001b[39m\u001b[38;5;124m\"\u001b[39m\u001b[38;5;124mTop words in negative reviews\u001b[39m\u001b[38;5;124m\"\u001b[39m)\n",
      "Input \u001b[1;32mIn [35]\u001b[0m, in \u001b[0;36mwordCloud_generator\u001b[1;34m(data, title)\u001b[0m\n\u001b[0;32m      1\u001b[0m \u001b[38;5;28;01mdef\u001b[39;00m \u001b[38;5;21mwordCloud_generator\u001b[39m(data, title\u001b[38;5;241m=\u001b[39m\u001b[38;5;28;01mNone\u001b[39;00m):\n\u001b[0;32m      2\u001b[0m     wordcloud \u001b[38;5;241m=\u001b[39m WordCloud(width \u001b[38;5;241m=\u001b[39m \u001b[38;5;241m800\u001b[39m, height \u001b[38;5;241m=\u001b[39m \u001b[38;5;241m800\u001b[39m,\n\u001b[0;32m      3\u001b[0m                           background_color \u001b[38;5;241m=\u001b[39m\u001b[38;5;124m'\u001b[39m\u001b[38;5;124mblack\u001b[39m\u001b[38;5;124m'\u001b[39m,\n\u001b[0;32m      4\u001b[0m                           min_font_size \u001b[38;5;241m=\u001b[39m \u001b[38;5;241m10\u001b[39m\n\u001b[1;32m----> 5\u001b[0m                          )\u001b[38;5;241m.\u001b[39mgenerate(\u001b[38;5;124m\"\u001b[39m\u001b[38;5;124m \u001b[39m\u001b[38;5;124m\"\u001b[39m\u001b[38;5;241m.\u001b[39mjoin(\u001b[43mdata\u001b[49m\u001b[38;5;241;43m.\u001b[39;49m\u001b[43mvalues\u001b[49m))                      \n\u001b[0;32m      6\u001b[0m     plt\u001b[38;5;241m.\u001b[39mfigure(figsize \u001b[38;5;241m=\u001b[39m (\u001b[38;5;241m8\u001b[39m, \u001b[38;5;241m8\u001b[39m), facecolor \u001b[38;5;241m=\u001b[39m \u001b[38;5;28;01mNone\u001b[39;00m) \n\u001b[0;32m      7\u001b[0m     plt\u001b[38;5;241m.\u001b[39mimshow(wordcloud, interpolation\u001b[38;5;241m=\u001b[39m\u001b[38;5;124m'\u001b[39m\u001b[38;5;124mbilinear\u001b[39m\u001b[38;5;124m'\u001b[39m) \n",
      "\u001b[1;31mAttributeError\u001b[0m: 'str' object has no attribute 'values'"
     ]
    }
   ],
   "source": [
    "positive_words=\" \".join(data[data.rating_split==1]['review'].values)\n",
    "negative_words=\" \".join(data[data.rating_split==0]['review'].values)\n",
    "\n",
    "wordCloud_generator(positive_words, title=\"Top words in positive reviews\")\n",
    "wordCloud_generator(negative_words, title=\"Top words in negative reviews\")"
   ]
  },
  {
   "cell_type": "markdown",
   "id": "9b5d970c",
   "metadata": {},
   "source": [
    "Assign y_train to rating_split data as this is what will be predicted. X_train will be defined after review data is vectorized"
   ]
  },
  {
   "cell_type": "code",
   "execution_count": 37,
   "id": "e14593ed",
   "metadata": {},
   "outputs": [],
   "source": [
    "y_train= data['rating_split']"
   ]
  },
  {
   "cell_type": "markdown",
   "id": "ac82c94f",
   "metadata": {},
   "source": [
    "# Tf-idf"
   ]
  },
  {
   "cell_type": "markdown",
   "id": "ca6c2a2d",
   "metadata": {},
   "source": [
    "Use TF-IDF to vectorize training set review words and fit tf-idf vectorizer to training set"
   ]
  },
  {
   "cell_type": "code",
   "execution_count": 38,
   "id": "713ca3b5",
   "metadata": {},
   "outputs": [],
   "source": [
    "def vectorize(data,tfidf_vect_fit):\n",
    "    X_tfidf = tfidf_vect_fit.transform(data)\n",
    "    words = tfidf_vect_fit.get_feature_names()\n",
    "    X_tfidf_df = pd.DataFrame(X_tfidf.toarray())\n",
    "    X_tfidf_df.columns = words\n",
    "    return(X_tfidf_df)"
   ]
  },
  {
   "cell_type": "markdown",
   "id": "5fb0b51c",
   "metadata": {},
   "source": [
    "Ignore terms that have a frequency greater than 95% and lower than 5."
   ]
  },
  {
   "cell_type": "code",
   "execution_count": 39,
   "id": "12bf81b2",
   "metadata": {},
   "outputs": [
    {
     "name": "stderr",
     "output_type": "stream",
     "text": [
      "C:\\Users\\625737\\Anaconda3\\lib\\site-packages\\sklearn\\utils\\deprecation.py:87: FutureWarning: Function get_feature_names is deprecated; get_feature_names is deprecated in 1.0 and will be removed in 1.2. Please use get_feature_names_out instead.\n",
      "  warnings.warn(msg, category=FutureWarning)\n"
     ]
    }
   ],
   "source": [
    "tfidf_vect= TfidfVectorizer(max_df=0.95, min_df=5, analyzer=cleanData)\n",
    "tfidf_vect_fit=tfidf_vect.fit(data['review'])\n",
    "X_train=vectorize(data['review'],tfidf_vect_fit)"
   ]
  },
  {
   "cell_type": "code",
   "execution_count": 40,
   "id": "45a64a9a",
   "metadata": {},
   "outputs": [
    {
     "data": {
      "text/html": [
       "<div>\n",
       "<style scoped>\n",
       "    .dataframe tbody tr th:only-of-type {\n",
       "        vertical-align: middle;\n",
       "    }\n",
       "\n",
       "    .dataframe tbody tr th {\n",
       "        vertical-align: top;\n",
       "    }\n",
       "\n",
       "    .dataframe thead th {\n",
       "        text-align: right;\n",
       "    }\n",
       "</style>\n",
       "<table border=\"1\" class=\"dataframe\">\n",
       "  <thead>\n",
       "    <tr style=\"text-align: right;\">\n",
       "      <th></th>\n",
       "      <th>\\t</th>\n",
       "      <th>\\n</th>\n",
       "      <th>\\r</th>\n",
       "      <th>!</th>\n",
       "      <th>#</th>\n",
       "      <th>$</th>\n",
       "      <th>%</th>\n",
       "      <th>&amp;</th>\n",
       "      <th>(</th>\n",
       "      <th>)</th>\n",
       "      <th>...</th>\n",
       "      <th>y</th>\n",
       "      <th>z</th>\n",
       "      <th>|</th>\n",
       "      <th>~</th>\n",
       "      <th>​</th>\n",
       "      <th>☹</th>\n",
       "      <th>☺</th>\n",
       "      <th>♡</th>\n",
       "      <th>❤</th>\n",
       "      <th>️</th>\n",
       "    </tr>\n",
       "  </thead>\n",
       "  <tbody>\n",
       "    <tr>\n",
       "      <th>0</th>\n",
       "      <td>0.0</td>\n",
       "      <td>0.000000</td>\n",
       "      <td>0.000000</td>\n",
       "      <td>0.0</td>\n",
       "      <td>0.000000</td>\n",
       "      <td>0.0</td>\n",
       "      <td>0.0</td>\n",
       "      <td>0.000000</td>\n",
       "      <td>0.0</td>\n",
       "      <td>0.0</td>\n",
       "      <td>...</td>\n",
       "      <td>0.205126</td>\n",
       "      <td>0.000000</td>\n",
       "      <td>0.0</td>\n",
       "      <td>0.0</td>\n",
       "      <td>0.0</td>\n",
       "      <td>0.0</td>\n",
       "      <td>0.0</td>\n",
       "      <td>0.0</td>\n",
       "      <td>0.0</td>\n",
       "      <td>0.0</td>\n",
       "    </tr>\n",
       "    <tr>\n",
       "      <th>1</th>\n",
       "      <td>0.0</td>\n",
       "      <td>0.124419</td>\n",
       "      <td>0.124419</td>\n",
       "      <td>0.0</td>\n",
       "      <td>0.000000</td>\n",
       "      <td>0.0</td>\n",
       "      <td>0.0</td>\n",
       "      <td>0.000000</td>\n",
       "      <td>0.0</td>\n",
       "      <td>0.0</td>\n",
       "      <td>...</td>\n",
       "      <td>0.385346</td>\n",
       "      <td>0.000000</td>\n",
       "      <td>0.0</td>\n",
       "      <td>0.0</td>\n",
       "      <td>0.0</td>\n",
       "      <td>0.0</td>\n",
       "      <td>0.0</td>\n",
       "      <td>0.0</td>\n",
       "      <td>0.0</td>\n",
       "      <td>0.0</td>\n",
       "    </tr>\n",
       "    <tr>\n",
       "      <th>2</th>\n",
       "      <td>0.0</td>\n",
       "      <td>0.109185</td>\n",
       "      <td>0.109185</td>\n",
       "      <td>0.0</td>\n",
       "      <td>0.100712</td>\n",
       "      <td>0.0</td>\n",
       "      <td>0.0</td>\n",
       "      <td>0.098496</td>\n",
       "      <td>0.0</td>\n",
       "      <td>0.0</td>\n",
       "      <td>...</td>\n",
       "      <td>0.263017</td>\n",
       "      <td>0.000000</td>\n",
       "      <td>0.0</td>\n",
       "      <td>0.0</td>\n",
       "      <td>0.0</td>\n",
       "      <td>0.0</td>\n",
       "      <td>0.0</td>\n",
       "      <td>0.0</td>\n",
       "      <td>0.0</td>\n",
       "      <td>0.0</td>\n",
       "    </tr>\n",
       "    <tr>\n",
       "      <th>3</th>\n",
       "      <td>0.0</td>\n",
       "      <td>0.000000</td>\n",
       "      <td>0.000000</td>\n",
       "      <td>0.0</td>\n",
       "      <td>0.088896</td>\n",
       "      <td>0.0</td>\n",
       "      <td>0.0</td>\n",
       "      <td>0.086940</td>\n",
       "      <td>0.0</td>\n",
       "      <td>0.0</td>\n",
       "      <td>...</td>\n",
       "      <td>0.265323</td>\n",
       "      <td>0.000000</td>\n",
       "      <td>0.0</td>\n",
       "      <td>0.0</td>\n",
       "      <td>0.0</td>\n",
       "      <td>0.0</td>\n",
       "      <td>0.0</td>\n",
       "      <td>0.0</td>\n",
       "      <td>0.0</td>\n",
       "      <td>0.0</td>\n",
       "    </tr>\n",
       "    <tr>\n",
       "      <th>4</th>\n",
       "      <td>0.0</td>\n",
       "      <td>0.000000</td>\n",
       "      <td>0.000000</td>\n",
       "      <td>0.0</td>\n",
       "      <td>0.170782</td>\n",
       "      <td>0.0</td>\n",
       "      <td>0.0</td>\n",
       "      <td>0.167024</td>\n",
       "      <td>0.0</td>\n",
       "      <td>0.0</td>\n",
       "      <td>...</td>\n",
       "      <td>0.382294</td>\n",
       "      <td>0.066971</td>\n",
       "      <td>0.0</td>\n",
       "      <td>0.0</td>\n",
       "      <td>0.0</td>\n",
       "      <td>0.0</td>\n",
       "      <td>0.0</td>\n",
       "      <td>0.0</td>\n",
       "      <td>0.0</td>\n",
       "      <td>0.0</td>\n",
       "    </tr>\n",
       "    <tr>\n",
       "      <th>...</th>\n",
       "      <td>...</td>\n",
       "      <td>...</td>\n",
       "      <td>...</td>\n",
       "      <td>...</td>\n",
       "      <td>...</td>\n",
       "      <td>...</td>\n",
       "      <td>...</td>\n",
       "      <td>...</td>\n",
       "      <td>...</td>\n",
       "      <td>...</td>\n",
       "      <td>...</td>\n",
       "      <td>...</td>\n",
       "      <td>...</td>\n",
       "      <td>...</td>\n",
       "      <td>...</td>\n",
       "      <td>...</td>\n",
       "      <td>...</td>\n",
       "      <td>...</td>\n",
       "      <td>...</td>\n",
       "      <td>...</td>\n",
       "      <td>...</td>\n",
       "    </tr>\n",
       "    <tr>\n",
       "      <th>161292</th>\n",
       "      <td>0.0</td>\n",
       "      <td>0.000000</td>\n",
       "      <td>0.000000</td>\n",
       "      <td>0.0</td>\n",
       "      <td>0.000000</td>\n",
       "      <td>0.0</td>\n",
       "      <td>0.0</td>\n",
       "      <td>0.060789</td>\n",
       "      <td>0.0</td>\n",
       "      <td>0.0</td>\n",
       "      <td>...</td>\n",
       "      <td>0.139138</td>\n",
       "      <td>0.097498</td>\n",
       "      <td>0.0</td>\n",
       "      <td>0.0</td>\n",
       "      <td>0.0</td>\n",
       "      <td>0.0</td>\n",
       "      <td>0.0</td>\n",
       "      <td>0.0</td>\n",
       "      <td>0.0</td>\n",
       "      <td>0.0</td>\n",
       "    </tr>\n",
       "    <tr>\n",
       "      <th>161293</th>\n",
       "      <td>0.0</td>\n",
       "      <td>0.000000</td>\n",
       "      <td>0.000000</td>\n",
       "      <td>0.0</td>\n",
       "      <td>0.000000</td>\n",
       "      <td>0.0</td>\n",
       "      <td>0.0</td>\n",
       "      <td>0.095169</td>\n",
       "      <td>0.0</td>\n",
       "      <td>0.0</td>\n",
       "      <td>...</td>\n",
       "      <td>0.363046</td>\n",
       "      <td>0.000000</td>\n",
       "      <td>0.0</td>\n",
       "      <td>0.0</td>\n",
       "      <td>0.0</td>\n",
       "      <td>0.0</td>\n",
       "      <td>0.0</td>\n",
       "      <td>0.0</td>\n",
       "      <td>0.0</td>\n",
       "      <td>0.0</td>\n",
       "    </tr>\n",
       "    <tr>\n",
       "      <th>161294</th>\n",
       "      <td>0.0</td>\n",
       "      <td>0.000000</td>\n",
       "      <td>0.000000</td>\n",
       "      <td>0.0</td>\n",
       "      <td>0.000000</td>\n",
       "      <td>0.0</td>\n",
       "      <td>0.0</td>\n",
       "      <td>0.000000</td>\n",
       "      <td>0.0</td>\n",
       "      <td>0.0</td>\n",
       "      <td>...</td>\n",
       "      <td>0.000000</td>\n",
       "      <td>0.000000</td>\n",
       "      <td>0.0</td>\n",
       "      <td>0.0</td>\n",
       "      <td>0.0</td>\n",
       "      <td>0.0</td>\n",
       "      <td>0.0</td>\n",
       "      <td>0.0</td>\n",
       "      <td>0.0</td>\n",
       "      <td>0.0</td>\n",
       "    </tr>\n",
       "    <tr>\n",
       "      <th>161295</th>\n",
       "      <td>0.0</td>\n",
       "      <td>0.098846</td>\n",
       "      <td>0.098846</td>\n",
       "      <td>0.0</td>\n",
       "      <td>0.182350</td>\n",
       "      <td>0.0</td>\n",
       "      <td>0.0</td>\n",
       "      <td>0.178337</td>\n",
       "      <td>0.0</td>\n",
       "      <td>0.0</td>\n",
       "      <td>...</td>\n",
       "      <td>0.408188</td>\n",
       "      <td>0.000000</td>\n",
       "      <td>0.0</td>\n",
       "      <td>0.0</td>\n",
       "      <td>0.0</td>\n",
       "      <td>0.0</td>\n",
       "      <td>0.0</td>\n",
       "      <td>0.0</td>\n",
       "      <td>0.0</td>\n",
       "      <td>0.0</td>\n",
       "    </tr>\n",
       "    <tr>\n",
       "      <th>161296</th>\n",
       "      <td>0.0</td>\n",
       "      <td>0.000000</td>\n",
       "      <td>0.000000</td>\n",
       "      <td>0.0</td>\n",
       "      <td>0.245062</td>\n",
       "      <td>0.0</td>\n",
       "      <td>0.0</td>\n",
       "      <td>0.239670</td>\n",
       "      <td>0.0</td>\n",
       "      <td>0.0</td>\n",
       "      <td>...</td>\n",
       "      <td>0.121904</td>\n",
       "      <td>0.256264</td>\n",
       "      <td>0.0</td>\n",
       "      <td>0.0</td>\n",
       "      <td>0.0</td>\n",
       "      <td>0.0</td>\n",
       "      <td>0.0</td>\n",
       "      <td>0.0</td>\n",
       "      <td>0.0</td>\n",
       "      <td>0.0</td>\n",
       "    </tr>\n",
       "  </tbody>\n",
       "</table>\n",
       "<p>161297 rows × 58 columns</p>\n",
       "</div>"
      ],
      "text/plain": [
       "         \\t        \\n        \\r    !         #    $    %         &    (    )  \\\n",
       "0       0.0  0.000000  0.000000  0.0  0.000000  0.0  0.0  0.000000  0.0  0.0   \n",
       "1       0.0  0.124419  0.124419  0.0  0.000000  0.0  0.0  0.000000  0.0  0.0   \n",
       "2       0.0  0.109185  0.109185  0.0  0.100712  0.0  0.0  0.098496  0.0  0.0   \n",
       "3       0.0  0.000000  0.000000  0.0  0.088896  0.0  0.0  0.086940  0.0  0.0   \n",
       "4       0.0  0.000000  0.000000  0.0  0.170782  0.0  0.0  0.167024  0.0  0.0   \n",
       "...     ...       ...       ...  ...       ...  ...  ...       ...  ...  ...   \n",
       "161292  0.0  0.000000  0.000000  0.0  0.000000  0.0  0.0  0.060789  0.0  0.0   \n",
       "161293  0.0  0.000000  0.000000  0.0  0.000000  0.0  0.0  0.095169  0.0  0.0   \n",
       "161294  0.0  0.000000  0.000000  0.0  0.000000  0.0  0.0  0.000000  0.0  0.0   \n",
       "161295  0.0  0.098846  0.098846  0.0  0.182350  0.0  0.0  0.178337  0.0  0.0   \n",
       "161296  0.0  0.000000  0.000000  0.0  0.245062  0.0  0.0  0.239670  0.0  0.0   \n",
       "\n",
       "        ...         y         z    |    ~    ​    ☹    ☺    ♡    ❤    ️  \n",
       "0       ...  0.205126  0.000000  0.0  0.0  0.0  0.0  0.0  0.0  0.0  0.0  \n",
       "1       ...  0.385346  0.000000  0.0  0.0  0.0  0.0  0.0  0.0  0.0  0.0  \n",
       "2       ...  0.263017  0.000000  0.0  0.0  0.0  0.0  0.0  0.0  0.0  0.0  \n",
       "3       ...  0.265323  0.000000  0.0  0.0  0.0  0.0  0.0  0.0  0.0  0.0  \n",
       "4       ...  0.382294  0.066971  0.0  0.0  0.0  0.0  0.0  0.0  0.0  0.0  \n",
       "...     ...       ...       ...  ...  ...  ...  ...  ...  ...  ...  ...  \n",
       "161292  ...  0.139138  0.097498  0.0  0.0  0.0  0.0  0.0  0.0  0.0  0.0  \n",
       "161293  ...  0.363046  0.000000  0.0  0.0  0.0  0.0  0.0  0.0  0.0  0.0  \n",
       "161294  ...  0.000000  0.000000  0.0  0.0  0.0  0.0  0.0  0.0  0.0  0.0  \n",
       "161295  ...  0.408188  0.000000  0.0  0.0  0.0  0.0  0.0  0.0  0.0  0.0  \n",
       "161296  ...  0.121904  0.256264  0.0  0.0  0.0  0.0  0.0  0.0  0.0  0.0  \n",
       "\n",
       "[161297 rows x 58 columns]"
      ]
     },
     "execution_count": 40,
     "metadata": {},
     "output_type": "execute_result"
    }
   ],
   "source": [
    "X_train"
   ]
  },
  {
   "cell_type": "markdown",
   "id": "ea7d6ebf",
   "metadata": {},
   "source": [
    "# Prep test data"
   ]
  },
  {
   "cell_type": "markdown",
   "id": "21f89937",
   "metadata": {},
   "source": [
    "Read in test data set"
   ]
  },
  {
   "cell_type": "code",
   "execution_count": 41,
   "id": "1f7a0594",
   "metadata": {},
   "outputs": [
    {
     "name": "stdout",
     "output_type": "stream",
     "text": [
      "(53766, 7)\n"
     ]
    },
    {
     "data": {
      "text/html": [
       "<div>\n",
       "<style scoped>\n",
       "    .dataframe tbody tr th:only-of-type {\n",
       "        vertical-align: middle;\n",
       "    }\n",
       "\n",
       "    .dataframe tbody tr th {\n",
       "        vertical-align: top;\n",
       "    }\n",
       "\n",
       "    .dataframe thead th {\n",
       "        text-align: right;\n",
       "    }\n",
       "</style>\n",
       "<table border=\"1\" class=\"dataframe\">\n",
       "  <thead>\n",
       "    <tr style=\"text-align: right;\">\n",
       "      <th></th>\n",
       "      <th>Unnamed: 0</th>\n",
       "      <th>drugName</th>\n",
       "      <th>condition</th>\n",
       "      <th>review</th>\n",
       "      <th>rating</th>\n",
       "      <th>date</th>\n",
       "      <th>usefulCount</th>\n",
       "    </tr>\n",
       "  </thead>\n",
       "  <tbody>\n",
       "    <tr>\n",
       "      <th>0</th>\n",
       "      <td>163740</td>\n",
       "      <td>Mirtazapine</td>\n",
       "      <td>Depression</td>\n",
       "      <td>\"I&amp;#039;ve tried a few antidepressants over th...</td>\n",
       "      <td>10.0</td>\n",
       "      <td>February 28, 2012</td>\n",
       "      <td>22</td>\n",
       "    </tr>\n",
       "    <tr>\n",
       "      <th>1</th>\n",
       "      <td>206473</td>\n",
       "      <td>Mesalamine</td>\n",
       "      <td>Crohn's Disease, Maintenance</td>\n",
       "      <td>\"My son has Crohn&amp;#039;s disease and has done ...</td>\n",
       "      <td>8.0</td>\n",
       "      <td>May 17, 2009</td>\n",
       "      <td>17</td>\n",
       "    </tr>\n",
       "    <tr>\n",
       "      <th>2</th>\n",
       "      <td>159672</td>\n",
       "      <td>Bactrim</td>\n",
       "      <td>Urinary Tract Infection</td>\n",
       "      <td>\"Quick reduction of symptoms\"</td>\n",
       "      <td>9.0</td>\n",
       "      <td>September 29, 2017</td>\n",
       "      <td>3</td>\n",
       "    </tr>\n",
       "    <tr>\n",
       "      <th>3</th>\n",
       "      <td>39293</td>\n",
       "      <td>Contrave</td>\n",
       "      <td>Weight Loss</td>\n",
       "      <td>\"Contrave combines drugs that were used for al...</td>\n",
       "      <td>9.0</td>\n",
       "      <td>March 5, 2017</td>\n",
       "      <td>35</td>\n",
       "    </tr>\n",
       "    <tr>\n",
       "      <th>4</th>\n",
       "      <td>97768</td>\n",
       "      <td>Cyclafem 1 / 35</td>\n",
       "      <td>Birth Control</td>\n",
       "      <td>\"I have been on this birth control for one cyc...</td>\n",
       "      <td>9.0</td>\n",
       "      <td>October 22, 2015</td>\n",
       "      <td>4</td>\n",
       "    </tr>\n",
       "  </tbody>\n",
       "</table>\n",
       "</div>"
      ],
      "text/plain": [
       "   Unnamed: 0         drugName                     condition  \\\n",
       "0      163740      Mirtazapine                    Depression   \n",
       "1      206473       Mesalamine  Crohn's Disease, Maintenance   \n",
       "2      159672          Bactrim       Urinary Tract Infection   \n",
       "3       39293         Contrave                   Weight Loss   \n",
       "4       97768  Cyclafem 1 / 35                 Birth Control   \n",
       "\n",
       "                                              review  rating  \\\n",
       "0  \"I&#039;ve tried a few antidepressants over th...    10.0   \n",
       "1  \"My son has Crohn&#039;s disease and has done ...     8.0   \n",
       "2                      \"Quick reduction of symptoms\"     9.0   \n",
       "3  \"Contrave combines drugs that were used for al...     9.0   \n",
       "4  \"I have been on this birth control for one cyc...     9.0   \n",
       "\n",
       "                 date  usefulCount  \n",
       "0   February 28, 2012           22  \n",
       "1        May 17, 2009           17  \n",
       "2  September 29, 2017            3  \n",
       "3       March 5, 2017           35  \n",
       "4    October 22, 2015            4  "
      ]
     },
     "execution_count": 41,
     "metadata": {},
     "output_type": "execute_result"
    }
   ],
   "source": [
    "test_data= pd.read_csv('drugsComTest_raw.tsv', sep='\\t')\n",
    "print(test_data.shape)\n",
    "test_data.head()"
   ]
  },
  {
   "cell_type": "code",
   "execution_count": 42,
   "id": "70687f18",
   "metadata": {},
   "outputs": [
    {
     "data": {
      "text/html": [
       "<div>\n",
       "<style scoped>\n",
       "    .dataframe tbody tr th:only-of-type {\n",
       "        vertical-align: middle;\n",
       "    }\n",
       "\n",
       "    .dataframe tbody tr th {\n",
       "        vertical-align: top;\n",
       "    }\n",
       "\n",
       "    .dataframe thead th {\n",
       "        text-align: right;\n",
       "    }\n",
       "</style>\n",
       "<table border=\"1\" class=\"dataframe\">\n",
       "  <thead>\n",
       "    <tr style=\"text-align: right;\">\n",
       "      <th></th>\n",
       "      <th>drugName</th>\n",
       "      <th>condition</th>\n",
       "      <th>review</th>\n",
       "      <th>rating</th>\n",
       "      <th>date</th>\n",
       "      <th>usefulCount</th>\n",
       "    </tr>\n",
       "  </thead>\n",
       "  <tbody>\n",
       "    <tr>\n",
       "      <th>0</th>\n",
       "      <td>Mirtazapine</td>\n",
       "      <td>Depression</td>\n",
       "      <td>\"I&amp;#039;ve tried a few antidepressants over th...</td>\n",
       "      <td>10.0</td>\n",
       "      <td>February 28, 2012</td>\n",
       "      <td>22</td>\n",
       "    </tr>\n",
       "    <tr>\n",
       "      <th>1</th>\n",
       "      <td>Mesalamine</td>\n",
       "      <td>Crohn's Disease, Maintenance</td>\n",
       "      <td>\"My son has Crohn&amp;#039;s disease and has done ...</td>\n",
       "      <td>8.0</td>\n",
       "      <td>May 17, 2009</td>\n",
       "      <td>17</td>\n",
       "    </tr>\n",
       "    <tr>\n",
       "      <th>2</th>\n",
       "      <td>Bactrim</td>\n",
       "      <td>Urinary Tract Infection</td>\n",
       "      <td>\"Quick reduction of symptoms\"</td>\n",
       "      <td>9.0</td>\n",
       "      <td>September 29, 2017</td>\n",
       "      <td>3</td>\n",
       "    </tr>\n",
       "    <tr>\n",
       "      <th>3</th>\n",
       "      <td>Contrave</td>\n",
       "      <td>Weight Loss</td>\n",
       "      <td>\"Contrave combines drugs that were used for al...</td>\n",
       "      <td>9.0</td>\n",
       "      <td>March 5, 2017</td>\n",
       "      <td>35</td>\n",
       "    </tr>\n",
       "    <tr>\n",
       "      <th>4</th>\n",
       "      <td>Cyclafem 1 / 35</td>\n",
       "      <td>Birth Control</td>\n",
       "      <td>\"I have been on this birth control for one cyc...</td>\n",
       "      <td>9.0</td>\n",
       "      <td>October 22, 2015</td>\n",
       "      <td>4</td>\n",
       "    </tr>\n",
       "  </tbody>\n",
       "</table>\n",
       "</div>"
      ],
      "text/plain": [
       "          drugName                     condition  \\\n",
       "0      Mirtazapine                    Depression   \n",
       "1       Mesalamine  Crohn's Disease, Maintenance   \n",
       "2          Bactrim       Urinary Tract Infection   \n",
       "3         Contrave                   Weight Loss   \n",
       "4  Cyclafem 1 / 35                 Birth Control   \n",
       "\n",
       "                                              review  rating  \\\n",
       "0  \"I&#039;ve tried a few antidepressants over th...    10.0   \n",
       "1  \"My son has Crohn&#039;s disease and has done ...     8.0   \n",
       "2                      \"Quick reduction of symptoms\"     9.0   \n",
       "3  \"Contrave combines drugs that were used for al...     9.0   \n",
       "4  \"I have been on this birth control for one cyc...     9.0   \n",
       "\n",
       "                 date  usefulCount  \n",
       "0   February 28, 2012           22  \n",
       "1        May 17, 2009           17  \n",
       "2  September 29, 2017            3  \n",
       "3       March 5, 2017           35  \n",
       "4    October 22, 2015            4  "
      ]
     },
     "execution_count": 42,
     "metadata": {},
     "output_type": "execute_result"
    }
   ],
   "source": [
    "test_data= test_data.drop('Unnamed: 0', axis=1)\n",
    "test_data.head()"
   ]
  },
  {
   "cell_type": "code",
   "execution_count": 43,
   "id": "aae6e5aa",
   "metadata": {},
   "outputs": [],
   "source": [
    "test_data['rating_split'] = np.where(test_data['rating'] >=5, True, False)"
   ]
  },
  {
   "cell_type": "code",
   "execution_count": 44,
   "id": "88a0184a",
   "metadata": {},
   "outputs": [
    {
     "data": {
      "text/plain": [
       "<AxesSubplot:xlabel='rating_split'>"
      ]
     },
     "execution_count": 44,
     "metadata": {},
     "output_type": "execute_result"
    },
    {
     "data": {
      "image/png": "[encoded data removed]",
      "text/plain": [
       "<Figure size 432x288 with 1 Axes>"
      ]
     },
     "metadata": {
      "needs_background": "light"
     },
     "output_type": "display_data"
    }
   ],
   "source": [
    "rating= test_data.groupby(['rating_split']).size()\n",
    "rating.plot.bar(rot=0)"
   ]
  },
  {
   "cell_type": "markdown",
   "id": "852261d9",
   "metadata": {},
   "source": [
    "Use cleanData loop created when cleaning training data review column. Leave in special characters like what was done in the training set."
   ]
  },
  {
   "cell_type": "code",
   "execution_count": 45,
   "id": "478cd1a5",
   "metadata": {},
   "outputs": [
    {
     "name": "stderr",
     "output_type": "stream",
     "text": [
      "C:\\Users\\625737\\Anaconda3\\lib\\site-packages\\spacy\\pipeline\\lemmatizer.py:211: UserWarning: [W108] The rule-based lemmatizer did not find POS annotation for one or more tokens. Check that your pipeline includes components that assign token.pos, typically 'tagger'+'attribute_ruler' or 'morphologizer'.\n",
      "  warnings.warn(Warnings.W108)\n"
     ]
    },
    {
     "data": {
      "text/plain": [
       "'son crohn&#039;s disease asacol   complaints shows effects   taken tablets time   i&#039;ve happy results reducing bouts diarrhea drastically'"
      ]
     },
     "execution_count": 45,
     "metadata": {},
     "output_type": "execute_result"
    }
   ],
   "source": [
    "cleanData(test_data['review'][1])"
   ]
  },
  {
   "cell_type": "code",
   "execution_count": 46,
   "id": "12f7796f",
   "metadata": {},
   "outputs": [],
   "source": [
    "test_data['review'] = test_data['review'].map(lambda x: cleanData(x))"
   ]
  },
  {
   "cell_type": "code",
   "execution_count": 47,
   "id": "ea0a4475",
   "metadata": {},
   "outputs": [],
   "source": [
    "y_test= test_data['rating_split']"
   ]
  },
  {
   "cell_type": "markdown",
   "id": "3ca21b03",
   "metadata": {},
   "source": [
    "Apply tfidf vectorizer to the text data without refitting the vectorizer to the testing set."
   ]
  },
  {
   "cell_type": "code",
   "execution_count": 48,
   "id": "6ef3f37f",
   "metadata": {},
   "outputs": [
    {
     "name": "stderr",
     "output_type": "stream",
     "text": [
      "C:\\Users\\625737\\Anaconda3\\lib\\site-packages\\sklearn\\utils\\deprecation.py:87: FutureWarning: Function get_feature_names is deprecated; get_feature_names is deprecated in 1.0 and will be removed in 1.2. Please use get_feature_names_out instead.\n",
      "  warnings.warn(msg, category=FutureWarning)\n"
     ]
    }
   ],
   "source": [
    "test_tfidf_vect= TfidfVectorizer(max_df=0.95, min_df=5, analyzer=cleanData)\n",
    "X_test=vectorize(test_data['review'], tfidf_vect_fit)"
   ]
  },
  {
   "cell_type": "code",
   "execution_count": 49,
   "id": "eb5154fe",
   "metadata": {},
   "outputs": [
    {
     "data": {
      "text/html": [
       "<div>\n",
       "<style scoped>\n",
       "    .dataframe tbody tr th:only-of-type {\n",
       "        vertical-align: middle;\n",
       "    }\n",
       "\n",
       "    .dataframe tbody tr th {\n",
       "        vertical-align: top;\n",
       "    }\n",
       "\n",
       "    .dataframe thead th {\n",
       "        text-align: right;\n",
       "    }\n",
       "</style>\n",
       "<table border=\"1\" class=\"dataframe\">\n",
       "  <thead>\n",
       "    <tr style=\"text-align: right;\">\n",
       "      <th></th>\n",
       "      <th>\\t</th>\n",
       "      <th>\\n</th>\n",
       "      <th>\\r</th>\n",
       "      <th>!</th>\n",
       "      <th>#</th>\n",
       "      <th>$</th>\n",
       "      <th>%</th>\n",
       "      <th>&amp;</th>\n",
       "      <th>(</th>\n",
       "      <th>)</th>\n",
       "      <th>...</th>\n",
       "      <th>y</th>\n",
       "      <th>z</th>\n",
       "      <th>|</th>\n",
       "      <th>~</th>\n",
       "      <th>​</th>\n",
       "      <th>☹</th>\n",
       "      <th>☺</th>\n",
       "      <th>♡</th>\n",
       "      <th>❤</th>\n",
       "      <th>️</th>\n",
       "    </tr>\n",
       "  </thead>\n",
       "  <tbody>\n",
       "    <tr>\n",
       "      <th>0</th>\n",
       "      <td>0.0</td>\n",
       "      <td>0.0</td>\n",
       "      <td>0.0</td>\n",
       "      <td>0.0</td>\n",
       "      <td>0.134299</td>\n",
       "      <td>0.0</td>\n",
       "      <td>0.0</td>\n",
       "      <td>0.131344</td>\n",
       "      <td>0.0</td>\n",
       "      <td>0.0</td>\n",
       "      <td>...</td>\n",
       "      <td>0.300626</td>\n",
       "      <td>0.210657</td>\n",
       "      <td>0.0</td>\n",
       "      <td>0.0</td>\n",
       "      <td>0.0</td>\n",
       "      <td>0.0</td>\n",
       "      <td>0.0</td>\n",
       "      <td>0.0</td>\n",
       "      <td>0.0</td>\n",
       "      <td>0.0</td>\n",
       "    </tr>\n",
       "    <tr>\n",
       "      <th>1</th>\n",
       "      <td>0.0</td>\n",
       "      <td>0.0</td>\n",
       "      <td>0.0</td>\n",
       "      <td>0.0</td>\n",
       "      <td>0.279806</td>\n",
       "      <td>0.0</td>\n",
       "      <td>0.0</td>\n",
       "      <td>0.273649</td>\n",
       "      <td>0.0</td>\n",
       "      <td>0.0</td>\n",
       "      <td>...</td>\n",
       "      <td>0.208781</td>\n",
       "      <td>0.000000</td>\n",
       "      <td>0.0</td>\n",
       "      <td>0.0</td>\n",
       "      <td>0.0</td>\n",
       "      <td>0.0</td>\n",
       "      <td>0.0</td>\n",
       "      <td>0.0</td>\n",
       "      <td>0.0</td>\n",
       "      <td>0.0</td>\n",
       "    </tr>\n",
       "    <tr>\n",
       "      <th>2</th>\n",
       "      <td>0.0</td>\n",
       "      <td>0.0</td>\n",
       "      <td>0.0</td>\n",
       "      <td>0.0</td>\n",
       "      <td>0.000000</td>\n",
       "      <td>0.0</td>\n",
       "      <td>0.0</td>\n",
       "      <td>0.000000</td>\n",
       "      <td>0.0</td>\n",
       "      <td>0.0</td>\n",
       "      <td>...</td>\n",
       "      <td>0.243335</td>\n",
       "      <td>0.000000</td>\n",
       "      <td>0.0</td>\n",
       "      <td>0.0</td>\n",
       "      <td>0.0</td>\n",
       "      <td>0.0</td>\n",
       "      <td>0.0</td>\n",
       "      <td>0.0</td>\n",
       "      <td>0.0</td>\n",
       "      <td>0.0</td>\n",
       "    </tr>\n",
       "    <tr>\n",
       "      <th>3</th>\n",
       "      <td>0.0</td>\n",
       "      <td>0.0</td>\n",
       "      <td>0.0</td>\n",
       "      <td>0.0</td>\n",
       "      <td>0.270242</td>\n",
       "      <td>0.0</td>\n",
       "      <td>0.0</td>\n",
       "      <td>0.264296</td>\n",
       "      <td>0.0</td>\n",
       "      <td>0.0</td>\n",
       "      <td>...</td>\n",
       "      <td>0.201645</td>\n",
       "      <td>0.000000</td>\n",
       "      <td>0.0</td>\n",
       "      <td>0.0</td>\n",
       "      <td>0.0</td>\n",
       "      <td>0.0</td>\n",
       "      <td>0.0</td>\n",
       "      <td>0.0</td>\n",
       "      <td>0.0</td>\n",
       "      <td>0.0</td>\n",
       "    </tr>\n",
       "    <tr>\n",
       "      <th>4</th>\n",
       "      <td>0.0</td>\n",
       "      <td>0.0</td>\n",
       "      <td>0.0</td>\n",
       "      <td>0.0</td>\n",
       "      <td>0.107015</td>\n",
       "      <td>0.0</td>\n",
       "      <td>0.0</td>\n",
       "      <td>0.104661</td>\n",
       "      <td>0.0</td>\n",
       "      <td>0.0</td>\n",
       "      <td>...</td>\n",
       "      <td>0.199627</td>\n",
       "      <td>0.083930</td>\n",
       "      <td>0.0</td>\n",
       "      <td>0.0</td>\n",
       "      <td>0.0</td>\n",
       "      <td>0.0</td>\n",
       "      <td>0.0</td>\n",
       "      <td>0.0</td>\n",
       "      <td>0.0</td>\n",
       "      <td>0.0</td>\n",
       "    </tr>\n",
       "    <tr>\n",
       "      <th>...</th>\n",
       "      <td>...</td>\n",
       "      <td>...</td>\n",
       "      <td>...</td>\n",
       "      <td>...</td>\n",
       "      <td>...</td>\n",
       "      <td>...</td>\n",
       "      <td>...</td>\n",
       "      <td>...</td>\n",
       "      <td>...</td>\n",
       "      <td>...</td>\n",
       "      <td>...</td>\n",
       "      <td>...</td>\n",
       "      <td>...</td>\n",
       "      <td>...</td>\n",
       "      <td>...</td>\n",
       "      <td>...</td>\n",
       "      <td>...</td>\n",
       "      <td>...</td>\n",
       "      <td>...</td>\n",
       "      <td>...</td>\n",
       "      <td>...</td>\n",
       "    </tr>\n",
       "    <tr>\n",
       "      <th>53761</th>\n",
       "      <td>0.0</td>\n",
       "      <td>0.0</td>\n",
       "      <td>0.0</td>\n",
       "      <td>0.0</td>\n",
       "      <td>0.000000</td>\n",
       "      <td>0.0</td>\n",
       "      <td>0.0</td>\n",
       "      <td>0.000000</td>\n",
       "      <td>0.0</td>\n",
       "      <td>0.0</td>\n",
       "      <td>...</td>\n",
       "      <td>0.092755</td>\n",
       "      <td>0.000000</td>\n",
       "      <td>0.0</td>\n",
       "      <td>0.0</td>\n",
       "      <td>0.0</td>\n",
       "      <td>0.0</td>\n",
       "      <td>0.0</td>\n",
       "      <td>0.0</td>\n",
       "      <td>0.0</td>\n",
       "      <td>0.0</td>\n",
       "    </tr>\n",
       "    <tr>\n",
       "      <th>53762</th>\n",
       "      <td>0.0</td>\n",
       "      <td>0.0</td>\n",
       "      <td>0.0</td>\n",
       "      <td>0.0</td>\n",
       "      <td>0.213683</td>\n",
       "      <td>0.0</td>\n",
       "      <td>0.0</td>\n",
       "      <td>0.208981</td>\n",
       "      <td>0.0</td>\n",
       "      <td>0.0</td>\n",
       "      <td>...</td>\n",
       "      <td>0.223219</td>\n",
       "      <td>0.067035</td>\n",
       "      <td>0.0</td>\n",
       "      <td>0.0</td>\n",
       "      <td>0.0</td>\n",
       "      <td>0.0</td>\n",
       "      <td>0.0</td>\n",
       "      <td>0.0</td>\n",
       "      <td>0.0</td>\n",
       "      <td>0.0</td>\n",
       "    </tr>\n",
       "    <tr>\n",
       "      <th>53763</th>\n",
       "      <td>0.0</td>\n",
       "      <td>0.0</td>\n",
       "      <td>0.0</td>\n",
       "      <td>0.0</td>\n",
       "      <td>0.168508</td>\n",
       "      <td>0.0</td>\n",
       "      <td>0.0</td>\n",
       "      <td>0.164800</td>\n",
       "      <td>0.0</td>\n",
       "      <td>0.0</td>\n",
       "      <td>...</td>\n",
       "      <td>0.209557</td>\n",
       "      <td>0.000000</td>\n",
       "      <td>0.0</td>\n",
       "      <td>0.0</td>\n",
       "      <td>0.0</td>\n",
       "      <td>0.0</td>\n",
       "      <td>0.0</td>\n",
       "      <td>0.0</td>\n",
       "      <td>0.0</td>\n",
       "      <td>0.0</td>\n",
       "    </tr>\n",
       "    <tr>\n",
       "      <th>53764</th>\n",
       "      <td>0.0</td>\n",
       "      <td>0.0</td>\n",
       "      <td>0.0</td>\n",
       "      <td>0.0</td>\n",
       "      <td>0.000000</td>\n",
       "      <td>0.0</td>\n",
       "      <td>0.0</td>\n",
       "      <td>0.000000</td>\n",
       "      <td>0.0</td>\n",
       "      <td>0.0</td>\n",
       "      <td>...</td>\n",
       "      <td>0.104473</td>\n",
       "      <td>0.000000</td>\n",
       "      <td>0.0</td>\n",
       "      <td>0.0</td>\n",
       "      <td>0.0</td>\n",
       "      <td>0.0</td>\n",
       "      <td>0.0</td>\n",
       "      <td>0.0</td>\n",
       "      <td>0.0</td>\n",
       "      <td>0.0</td>\n",
       "    </tr>\n",
       "    <tr>\n",
       "      <th>53765</th>\n",
       "      <td>0.0</td>\n",
       "      <td>0.0</td>\n",
       "      <td>0.0</td>\n",
       "      <td>0.0</td>\n",
       "      <td>0.000000</td>\n",
       "      <td>0.0</td>\n",
       "      <td>0.0</td>\n",
       "      <td>0.000000</td>\n",
       "      <td>0.0</td>\n",
       "      <td>0.0</td>\n",
       "      <td>...</td>\n",
       "      <td>0.000000</td>\n",
       "      <td>0.000000</td>\n",
       "      <td>0.0</td>\n",
       "      <td>0.0</td>\n",
       "      <td>0.0</td>\n",
       "      <td>0.0</td>\n",
       "      <td>0.0</td>\n",
       "      <td>0.0</td>\n",
       "      <td>0.0</td>\n",
       "      <td>0.0</td>\n",
       "    </tr>\n",
       "  </tbody>\n",
       "</table>\n",
       "<p>53766 rows × 58 columns</p>\n",
       "</div>"
      ],
      "text/plain": [
       "        \\t   \\n   \\r    !         #    $    %         &    (    )  ...  \\\n",
       "0      0.0  0.0  0.0  0.0  0.134299  0.0  0.0  0.131344  0.0  0.0  ...   \n",
       "1      0.0  0.0  0.0  0.0  0.279806  0.0  0.0  0.273649  0.0  0.0  ...   \n",
       "2      0.0  0.0  0.0  0.0  0.000000  0.0  0.0  0.000000  0.0  0.0  ...   \n",
       "3      0.0  0.0  0.0  0.0  0.270242  0.0  0.0  0.264296  0.0  0.0  ...   \n",
       "4      0.0  0.0  0.0  0.0  0.107015  0.0  0.0  0.104661  0.0  0.0  ...   \n",
       "...    ...  ...  ...  ...       ...  ...  ...       ...  ...  ...  ...   \n",
       "53761  0.0  0.0  0.0  0.0  0.000000  0.0  0.0  0.000000  0.0  0.0  ...   \n",
       "53762  0.0  0.0  0.0  0.0  0.213683  0.0  0.0  0.208981  0.0  0.0  ...   \n",
       "53763  0.0  0.0  0.0  0.0  0.168508  0.0  0.0  0.164800  0.0  0.0  ...   \n",
       "53764  0.0  0.0  0.0  0.0  0.000000  0.0  0.0  0.000000  0.0  0.0  ...   \n",
       "53765  0.0  0.0  0.0  0.0  0.000000  0.0  0.0  0.000000  0.0  0.0  ...   \n",
       "\n",
       "              y         z    |    ~    ​    ☹    ☺    ♡    ❤    ️  \n",
       "0      0.300626  0.210657  0.0  0.0  0.0  0.0  0.0  0.0  0.0  0.0  \n",
       "1      0.208781  0.000000  0.0  0.0  0.0  0.0  0.0  0.0  0.0  0.0  \n",
       "2      0.243335  0.000000  0.0  0.0  0.0  0.0  0.0  0.0  0.0  0.0  \n",
       "3      0.201645  0.000000  0.0  0.0  0.0  0.0  0.0  0.0  0.0  0.0  \n",
       "4      0.199627  0.083930  0.0  0.0  0.0  0.0  0.0  0.0  0.0  0.0  \n",
       "...         ...       ...  ...  ...  ...  ...  ...  ...  ...  ...  \n",
       "53761  0.092755  0.000000  0.0  0.0  0.0  0.0  0.0  0.0  0.0  0.0  \n",
       "53762  0.223219  0.067035  0.0  0.0  0.0  0.0  0.0  0.0  0.0  0.0  \n",
       "53763  0.209557  0.000000  0.0  0.0  0.0  0.0  0.0  0.0  0.0  0.0  \n",
       "53764  0.104473  0.000000  0.0  0.0  0.0  0.0  0.0  0.0  0.0  0.0  \n",
       "53765  0.000000  0.000000  0.0  0.0  0.0  0.0  0.0  0.0  0.0  0.0  \n",
       "\n",
       "[53766 rows x 58 columns]"
      ]
     },
     "execution_count": 49,
     "metadata": {},
     "output_type": "execute_result"
    }
   ],
   "source": [
    "X_test"
   ]
  },
  {
   "cell_type": "code",
   "execution_count": null,
   "id": "c4b90b29",
   "metadata": {},
   "outputs": [],
   "source": []
  },
  {
   "cell_type": "markdown",
   "id": "13778291",
   "metadata": {},
   "source": [
    "# Random Forest"
   ]
  },
  {
   "cell_type": "markdown",
   "id": "0f6ec323",
   "metadata": {},
   "source": [
    "Build Random Forest Model "
   ]
  },
  {
   "cell_type": "code",
   "execution_count": 50,
   "id": "43dd4821",
   "metadata": {},
   "outputs": [],
   "source": [
    "rf_model= RandomForestClassifier()"
   ]
  },
  {
   "cell_type": "markdown",
   "id": "34de03e7",
   "metadata": {},
   "source": [
    "Use GridSearchCV to check for best parameters and also applying k-fold cross validation to improve the model's performance."
   ]
  },
  {
   "cell_type": "code",
   "execution_count": 73,
   "id": "17248666",
   "metadata": {},
   "outputs": [],
   "source": [
    "def print_results(results):\n",
    "    print('BEST PARAMS: {}\\n'.format(results.best_params_))\n",
    "\n",
    "    means = results.cv_results_['mean_test_score']\n",
    "    for mean, params in zip(means, results.cv_results_['params']):\n",
    "        print('{} for {}'.format(round(mean, 3), params))"
   ]
  },
  {
   "cell_type": "code",
   "execution_count": 74,
   "id": "813e6e85",
   "metadata": {},
   "outputs": [
    {
     "name": "stdout",
     "output_type": "stream",
     "text": [
      "BEST PARAMS: {'max_depth': None, 'n_estimators': 100}\n",
      "\n",
      "0.827 for {'max_depth': None, 'n_estimators': 5}\n",
      "0.869 for {'max_depth': None, 'n_estimators': 50}\n",
      "0.869 for {'max_depth': None, 'n_estimators': 100}\n",
      "0.752 for {'max_depth': 2, 'n_estimators': 5}\n",
      "0.752 for {'max_depth': 2, 'n_estimators': 50}\n",
      "0.752 for {'max_depth': 2, 'n_estimators': 100}\n",
      "0.753 for {'max_depth': 10, 'n_estimators': 5}\n",
      "0.752 for {'max_depth': 10, 'n_estimators': 50}\n",
      "0.752 for {'max_depth': 10, 'n_estimators': 100}\n",
      "0.783 for {'max_depth': 20, 'n_estimators': 5}\n",
      "0.789 for {'max_depth': 20, 'n_estimators': 50}\n",
      "0.788 for {'max_depth': 20, 'n_estimators': 100}\n"
     ]
    }
   ],
   "source": [
    "parameters = {\n",
    "    'n_estimators': [5, 50, 100],\n",
    "    'max_depth': [None, 2, 10, 20]\n",
    "}\n",
    "\n",
    "cv = GridSearchCV(rf_model,parameters, cv=5)\n",
    "cv.fit(X_train,y_train.values.ravel())\n",
    "print_results(cv)"
   ]
  },
  {
   "cell_type": "code",
   "execution_count": 75,
   "id": "e9baa649",
   "metadata": {},
   "outputs": [
    {
     "data": {
      "text/html": [
       "<style>#sk-container-id-2 {color: black;background-color: white;}#sk-container-id-2 pre{padding: 0;}#sk-container-id-2 div.sk-toggleable {background-color: white;}#sk-container-id-2 label.sk-toggleable__label {cursor: pointer;display: block;width: 100%;margin-bottom: 0;padding: 0.3em;box-sizing: border-box;text-align: center;}#sk-container-id-2 label.sk-toggleable__label-arrow:before {content: \"▸\";float: left;margin-right: 0.25em;color: #696969;}#sk-container-id-2 label.sk-toggleable__label-arrow:hover:before {color: black;}#sk-container-id-2 div.sk-estimator:hover label.sk-toggleable__label-arrow:before {color: black;}#sk-container-id-2 div.sk-toggleable__content {max-height: 0;max-width: 0;overflow: hidden;text-align: left;background-color: #f0f8ff;}#sk-container-id-2 div.sk-toggleable__content pre {margin: 0.2em;color: black;border-radius: 0.25em;background-color: #f0f8ff;}#sk-container-id-2 input.sk-toggleable__control:checked~div.sk-toggleable__content {max-height: 200px;max-width: 100%;overflow: auto;}#sk-container-id-2 input.sk-toggleable__control:checked~label.sk-toggleable__label-arrow:before {content: \"▾\";}#sk-container-id-2 div.sk-estimator input.sk-toggleable__control:checked~label.sk-toggleable__label {background-color: #d4ebff;}#sk-container-id-2 div.sk-label input.sk-toggleable__control:checked~label.sk-toggleable__label {background-color: #d4ebff;}#sk-container-id-2 input.sk-hidden--visually {border: 0;clip: rect(1px 1px 1px 1px);clip: rect(1px, 1px, 1px, 1px);height: 1px;margin: -1px;overflow: hidden;padding: 0;position: absolute;width: 1px;}#sk-container-id-2 div.sk-estimator {font-family: monospace;background-color: #f0f8ff;border: 1px dotted black;border-radius: 0.25em;box-sizing: border-box;margin-bottom: 0.5em;}#sk-container-id-2 div.sk-estimator:hover {background-color: #d4ebff;}#sk-container-id-2 div.sk-parallel-item::after {content: \"\";width: 100%;border-bottom: 1px solid gray;flex-grow: 1;}#sk-container-id-2 div.sk-label:hover label.sk-toggleable__label {background-color: #d4ebff;}#sk-container-id-2 div.sk-serial::before {content: \"\";position: absolute;border-left: 1px solid gray;box-sizing: border-box;top: 0;bottom: 0;left: 50%;z-index: 0;}#sk-container-id-2 div.sk-serial {display: flex;flex-direction: column;align-items: center;background-color: white;padding-right: 0.2em;padding-left: 0.2em;position: relative;}#sk-container-id-2 div.sk-item {position: relative;z-index: 1;}#sk-container-id-2 div.sk-parallel {display: flex;align-items: stretch;justify-content: center;background-color: white;position: relative;}#sk-container-id-2 div.sk-item::before, #sk-container-id-2 div.sk-parallel-item::before {content: \"\";position: absolute;border-left: 1px solid gray;box-sizing: border-box;top: 0;bottom: 0;left: 50%;z-index: -1;}#sk-container-id-2 div.sk-parallel-item {display: flex;flex-direction: column;z-index: 1;position: relative;background-color: white;}#sk-container-id-2 div.sk-parallel-item:first-child::after {align-self: flex-end;width: 50%;}#sk-container-id-2 div.sk-parallel-item:last-child::after {align-self: flex-start;width: 50%;}#sk-container-id-2 div.sk-parallel-item:only-child::after {width: 0;}#sk-container-id-2 div.sk-dashed-wrapped {border: 1px dashed gray;margin: 0 0.4em 0.5em 0.4em;box-sizing: border-box;padding-bottom: 0.4em;background-color: white;}#sk-container-id-2 div.sk-label label {font-family: monospace;font-weight: bold;display: inline-block;line-height: 1.2em;}#sk-container-id-2 div.sk-label-container {text-align: center;}#sk-container-id-2 div.sk-container {/* jupyter's `normalize.less` sets `[hidden] { display: none; }` but bootstrap.min.css set `[hidden] { display: none !important; }` so we also need the `!important` here to be able to override the default hidden behavior on the sphinx rendered scikit-learn.org. See: https://github.com/scikit-learn/scikit-learn/issues/21755 */display: inline-block !important;position: relative;}#sk-container-id-2 div.sk-text-repr-fallback {display: none;}</style><div id=\"sk-container-id-2\" class=\"sk-top-container\"><div class=\"sk-text-repr-fallback\"><pre>RandomForestClassifier()</pre><b>In a Jupyter environment, please rerun this cell to show the HTML representation or trust the notebook. <br />On GitHub, the HTML representation is unable to render, please try loading this page with nbviewer.org.</b></div><div class=\"sk-container\" hidden><div class=\"sk-item\"><div class=\"sk-estimator sk-toggleable\"><input class=\"sk-toggleable__control sk-hidden--visually\" id=\"sk-estimator-id-2\" type=\"checkbox\" checked><label for=\"sk-estimator-id-2\" class=\"sk-toggleable__label sk-toggleable__label-arrow\">RandomForestClassifier</label><div class=\"sk-toggleable__content\"><pre>RandomForestClassifier()</pre></div></div></div></div></div>"
      ],
      "text/plain": [
       "RandomForestClassifier()"
      ]
     },
     "execution_count": 75,
     "metadata": {},
     "output_type": "execute_result"
    }
   ],
   "source": [
    "rf_model_bestparam= RandomForestClassifier(n_estimators= 100, max_depth= None)\n",
    "rf_model_bestparam.fit(X_train, y_train.values.ravel())"
   ]
  },
  {
   "cell_type": "markdown",
   "id": "bd30809c",
   "metadata": {},
   "source": [
    "# Test the model"
   ]
  },
  {
   "cell_type": "code",
   "execution_count": 76,
   "id": "cfc12036",
   "metadata": {},
   "outputs": [],
   "source": [
    "forest_y_predict = rf_model_bestparam.predict(X_test)"
   ]
  },
  {
   "cell_type": "markdown",
   "id": "f34ca0cf",
   "metadata": {},
   "source": [
    "Compare predicted values with actual values:"
   ]
  },
  {
   "cell_type": "code",
   "execution_count": 77,
   "id": "c813d66d",
   "metadata": {},
   "outputs": [
    {
     "data": {
      "text/html": [
       "<div>\n",
       "<style scoped>\n",
       "    .dataframe tbody tr th:only-of-type {\n",
       "        vertical-align: middle;\n",
       "    }\n",
       "\n",
       "    .dataframe tbody tr th {\n",
       "        vertical-align: top;\n",
       "    }\n",
       "\n",
       "    .dataframe thead th {\n",
       "        text-align: right;\n",
       "    }\n",
       "</style>\n",
       "<table border=\"1\" class=\"dataframe\">\n",
       "  <thead>\n",
       "    <tr style=\"text-align: right;\">\n",
       "      <th></th>\n",
       "      <th>review</th>\n",
       "      <th>rating</th>\n",
       "      <th>rating_split</th>\n",
       "      <th>predicted_rating</th>\n",
       "    </tr>\n",
       "  </thead>\n",
       "  <tbody>\n",
       "    <tr>\n",
       "      <th>0</th>\n",
       "      <td>i&amp;#039;ve tried antidepressants years citalopr...</td>\n",
       "      <td>10.0</td>\n",
       "      <td>True</td>\n",
       "      <td>1</td>\n",
       "    </tr>\n",
       "    <tr>\n",
       "      <th>1</th>\n",
       "      <td>son crohn&amp;#039;s disease asacol   complaints s...</td>\n",
       "      <td>8.0</td>\n",
       "      <td>True</td>\n",
       "      <td>1</td>\n",
       "    </tr>\n",
       "    <tr>\n",
       "      <th>2</th>\n",
       "      <td>quick reduction symptoms</td>\n",
       "      <td>9.0</td>\n",
       "      <td>True</td>\n",
       "      <td>1</td>\n",
       "    </tr>\n",
       "    <tr>\n",
       "      <th>3</th>\n",
       "      <td>contrave combines drugs alcohol smoking opioid...</td>\n",
       "      <td>9.0</td>\n",
       "      <td>True</td>\n",
       "      <td>1</td>\n",
       "    </tr>\n",
       "    <tr>\n",
       "      <th>4</th>\n",
       "      <td>birth control cycle reading reviews type simil...</td>\n",
       "      <td>9.0</td>\n",
       "      <td>True</td>\n",
       "      <td>1</td>\n",
       "    </tr>\n",
       "    <tr>\n",
       "      <th>5</th>\n",
       "      <td>4 days 2 weeks   arms face vaseline lips eyes ...</td>\n",
       "      <td>4.0</td>\n",
       "      <td>False</td>\n",
       "      <td>0</td>\n",
       "    </tr>\n",
       "    <tr>\n",
       "      <th>6</th>\n",
       "      <td>i&amp;#039;ve copper coil 3 months excited thought...</td>\n",
       "      <td>6.0</td>\n",
       "      <td>True</td>\n",
       "      <td>1</td>\n",
       "    </tr>\n",
       "    <tr>\n",
       "      <th>7</th>\n",
       "      <td>great i&amp;#039;ve 2 weeks 3 headaches went away ...</td>\n",
       "      <td>9.0</td>\n",
       "      <td>True</td>\n",
       "      <td>1</td>\n",
       "    </tr>\n",
       "    <tr>\n",
       "      <th>8</th>\n",
       "      <td>ve methadone years currently trying drug ve de...</td>\n",
       "      <td>7.0</td>\n",
       "      <td>True</td>\n",
       "      <td>1</td>\n",
       "    </tr>\n",
       "    <tr>\n",
       "      <th>9</th>\n",
       "      <td>years work far getting pregnant experience did...</td>\n",
       "      <td>2.0</td>\n",
       "      <td>False</td>\n",
       "      <td>0</td>\n",
       "    </tr>\n",
       "    <tr>\n",
       "      <th>10</th>\n",
       "      <td>holy hell exactly feel taking brisdelle 1.5 ye...</td>\n",
       "      <td>1.0</td>\n",
       "      <td>False</td>\n",
       "      <td>0</td>\n",
       "    </tr>\n",
       "    <tr>\n",
       "      <th>11</th>\n",
       "      <td>honestly 3 treatment yes burns bit leak nt lay...</td>\n",
       "      <td>6.0</td>\n",
       "      <td>True</td>\n",
       "      <td>1</td>\n",
       "    </tr>\n",
       "    <tr>\n",
       "      <th>12</th>\n",
       "      <td>waste money   curb appetite feel</td>\n",
       "      <td>1.0</td>\n",
       "      <td>False</td>\n",
       "      <td>0</td>\n",
       "    </tr>\n",
       "    <tr>\n",
       "      <th>13</th>\n",
       "      <td>problems watch eat</td>\n",
       "      <td>10.0</td>\n",
       "      <td>True</td>\n",
       "      <td>1</td>\n",
       "    </tr>\n",
       "    <tr>\n",
       "      <th>14</th>\n",
       "      <td>ditto rebound sleepless discontinued strange t...</td>\n",
       "      <td>2.0</td>\n",
       "      <td>False</td>\n",
       "      <td>0</td>\n",
       "    </tr>\n",
       "    <tr>\n",
       "      <th>15</th>\n",
       "      <td>er prescribed 200 mg provigil diagnosed narcol...</td>\n",
       "      <td>9.0</td>\n",
       "      <td>True</td>\n",
       "      <td>1</td>\n",
       "    </tr>\n",
       "    <tr>\n",
       "      <th>16</th>\n",
       "      <td>smoked 50 + years     didn&amp;#039;t think possib...</td>\n",
       "      <td>10.0</td>\n",
       "      <td>True</td>\n",
       "      <td>1</td>\n",
       "    </tr>\n",
       "    <tr>\n",
       "      <th>17</th>\n",
       "      <td>ginanvi 3 months switched high cost ginavi don...</td>\n",
       "      <td>3.0</td>\n",
       "      <td>False</td>\n",
       "      <td>1</td>\n",
       "    </tr>\n",
       "    <tr>\n",
       "      <th>18</th>\n",
       "      <td>helped   sleep eventually ineffective sleep ai...</td>\n",
       "      <td>6.0</td>\n",
       "      <td>True</td>\n",
       "      <td>1</td>\n",
       "    </tr>\n",
       "    <tr>\n",
       "      <th>19</th>\n",
       "      <td>1 dose ciprofloxacn felt 99 better</td>\n",
       "      <td>10.0</td>\n",
       "      <td>True</td>\n",
       "      <td>1</td>\n",
       "    </tr>\n",
       "    <tr>\n",
       "      <th>20</th>\n",
       "      <td>0 absolutely   started 50 mg felt wired   want...</td>\n",
       "      <td>1.0</td>\n",
       "      <td>False</td>\n",
       "      <td>1</td>\n",
       "    </tr>\n",
       "    <tr>\n",
       "      <th>21</th>\n",
       "      <td>happy samples provided endocrinologist thing s...</td>\n",
       "      <td>9.0</td>\n",
       "      <td>True</td>\n",
       "      <td>1</td>\n",
       "    </tr>\n",
       "    <tr>\n",
       "      <th>22</th>\n",
       "      <td>days quot;kicked in,&amp;quot noise house jump pic...</td>\n",
       "      <td>1.0</td>\n",
       "      <td>False</td>\n",
       "      <td>0</td>\n",
       "    </tr>\n",
       "    <tr>\n",
       "      <th>23</th>\n",
       "      <td>didn&amp;#039;t help dry eyes</td>\n",
       "      <td>1.0</td>\n",
       "      <td>False</td>\n",
       "      <td>0</td>\n",
       "    </tr>\n",
       "    <tr>\n",
       "      <th>24</th>\n",
       "      <td>drug pretty amazing i&amp;#039;ve hyperhydrosis pa...</td>\n",
       "      <td>9.0</td>\n",
       "      <td>True</td>\n",
       "      <td>1</td>\n",
       "    </tr>\n",
       "  </tbody>\n",
       "</table>\n",
       "</div>"
      ],
      "text/plain": [
       "                                               review  rating  rating_split  \\\n",
       "0   i&#039;ve tried antidepressants years citalopr...    10.0          True   \n",
       "1   son crohn&#039;s disease asacol   complaints s...     8.0          True   \n",
       "2                            quick reduction symptoms     9.0          True   \n",
       "3   contrave combines drugs alcohol smoking opioid...     9.0          True   \n",
       "4   birth control cycle reading reviews type simil...     9.0          True   \n",
       "5   4 days 2 weeks   arms face vaseline lips eyes ...     4.0         False   \n",
       "6   i&#039;ve copper coil 3 months excited thought...     6.0          True   \n",
       "7   great i&#039;ve 2 weeks 3 headaches went away ...     9.0          True   \n",
       "8   ve methadone years currently trying drug ve de...     7.0          True   \n",
       "9   years work far getting pregnant experience did...     2.0         False   \n",
       "10  holy hell exactly feel taking brisdelle 1.5 ye...     1.0         False   \n",
       "11  honestly 3 treatment yes burns bit leak nt lay...     6.0          True   \n",
       "12                   waste money   curb appetite feel     1.0         False   \n",
       "13                                 problems watch eat    10.0          True   \n",
       "14  ditto rebound sleepless discontinued strange t...     2.0         False   \n",
       "15  er prescribed 200 mg provigil diagnosed narcol...     9.0          True   \n",
       "16  smoked 50 + years     didn&#039;t think possib...    10.0          True   \n",
       "17  ginanvi 3 months switched high cost ginavi don...     3.0         False   \n",
       "18  helped   sleep eventually ineffective sleep ai...     6.0          True   \n",
       "19                 1 dose ciprofloxacn felt 99 better    10.0          True   \n",
       "20  0 absolutely   started 50 mg felt wired   want...     1.0         False   \n",
       "21  happy samples provided endocrinologist thing s...     9.0          True   \n",
       "22  days quot;kicked in,&quot noise house jump pic...     1.0         False   \n",
       "23                          didn&#039;t help dry eyes     1.0         False   \n",
       "24  drug pretty amazing i&#039;ve hyperhydrosis pa...     9.0          True   \n",
       "\n",
       "    predicted_rating  \n",
       "0                  1  \n",
       "1                  1  \n",
       "2                  1  \n",
       "3                  1  \n",
       "4                  1  \n",
       "5                  0  \n",
       "6                  1  \n",
       "7                  1  \n",
       "8                  1  \n",
       "9                  0  \n",
       "10                 0  \n",
       "11                 1  \n",
       "12                 0  \n",
       "13                 1  \n",
       "14                 0  \n",
       "15                 1  \n",
       "16                 1  \n",
       "17                 1  \n",
       "18                 1  \n",
       "19                 1  \n",
       "20                 1  \n",
       "21                 1  \n",
       "22                 0  \n",
       "23                 0  \n",
       "24                 1  "
      ]
     },
     "execution_count": 77,
     "metadata": {},
     "output_type": "execute_result"
    }
   ],
   "source": [
    "test_data['predicted_rating']= forest_y_predict\n",
    "test_data_sub= test_data[['review', 'rating', 'rating_split', 'predicted_rating']]\n",
    "test_data_sub.head(25)"
   ]
  },
  {
   "cell_type": "markdown",
   "id": "fddc608b",
   "metadata": {},
   "source": [
    "The probability of each predicted value being each class:"
   ]
  },
  {
   "cell_type": "code",
   "execution_count": 78,
   "id": "995d9bc3",
   "metadata": {},
   "outputs": [
    {
     "name": "stdout",
     "output_type": "stream",
     "text": [
      "[[0.71       0.29      ]\n",
      " [0.15       0.85      ]\n",
      " [0.19       0.81      ]\n",
      " ...\n",
      " [0.08       0.92      ]\n",
      " [0.84       0.16      ]\n",
      " [0.12998569 0.87001431]]\n"
     ]
    }
   ],
   "source": [
    "forest_y_predict_prob = rf_model_bestparam.predict_proba(X_test) \n",
    "print(forest_y_predict_prob[5:])"
   ]
  },
  {
   "cell_type": "markdown",
   "id": "84a03bba",
   "metadata": {},
   "source": [
    "A confusion matrix was made to better understand and visualize how well the model did."
   ]
  },
  {
   "cell_type": "code",
   "execution_count": 79,
   "id": "5b3210d5",
   "metadata": {},
   "outputs": [
    {
     "name": "stdout",
     "output_type": "stream",
     "text": [
      "[[ 8128  5369]\n",
      " [  174 40095]]\n",
      "0.8969\n"
     ]
    },
    {
     "data": {
      "image/png": "[encoded data removed]",
      "text/plain": [
       "<Figure size 432x288 with 1 Axes>"
      ]
     },
     "metadata": {
      "needs_background": "light"
     },
     "output_type": "display_data"
    }
   ],
   "source": [
    "cm_forest = confusion_matrix(y_test, forest_y_predict)\n",
    "print(cm_forest)\n",
    "print(round(accuracy_score(y_test, forest_y_predict), \n",
    "4))\n",
    "\n",
    "plt.imshow(cm_forest, interpolation = 'nearest', cmap = plt.cm.Wistia)\n",
    "classNames = ['Negative', 'Positive']\n",
    "plt.title('Confusion Matrix - Test Data')\n",
    "plt.ylabel('True label')\n",
    "plt.xlabel('Predicted label')\n",
    "tick_marks = np.arange(len(classNames))\n",
    "plt.xticks(tick_marks, classNames, rotation = 45)\n",
    "plt.yticks(tick_marks, classNames)\n",
    "s = [['TN', 'FP'], ['FN', 'TP']]\n",
    "for i in range(2):\n",
    "    for j in range(2):\n",
    "        plt.text(j,i, str(s[i][j]) + \" = \" + str(cm_forest[i][j]))\n",
    "plt.show()"
   ]
  },
  {
   "cell_type": "markdown",
   "id": "5703264f",
   "metadata": {},
   "source": [
    "Based on the confusion matrix, the model did fairly well in determining true negatives and true positives especially since the data was imbalanced.\n",
    "\n",
    "The model shows there is a low chance of a review being falsely labeled as a review with a medication satisfaction rating of 5 and up. This also shows that there is an even lower chance of a review being falsely labeled as a negative review or as a review with a medication satisfaction rating of 4 and below. "
   ]
  },
  {
   "cell_type": "markdown",
   "id": "d70d77df",
   "metadata": {},
   "source": [
    "Since the data was imbalanced, the acuracy score does not tell much on how well the model worked.\n",
    "Instead, will focus more on the precision and recall metrics of the model."
   ]
  },
  {
   "cell_type": "code",
   "execution_count": 80,
   "id": "93a62827",
   "metadata": {},
   "outputs": [
    {
     "name": "stdout",
     "output_type": "stream",
     "text": [
      "Accuracy:  0.8969051073168918\n",
      "Precision:  0.8819065634348056\n",
      "Recall:  0.9956790583327125\n",
      "F1 score:  0.9353457828374138\n",
      "F_beta score:  0.902532357906584\n",
      "Log loss:  0.31604574662143364\n"
     ]
    },
    {
     "name": "stderr",
     "output_type": "stream",
     "text": [
      "C:\\Users\\625737\\Anaconda3\\lib\\site-packages\\sklearn\\utils\\deprecation.py:87: FutureWarning: Function plot_roc_curve is deprecated; Function :func:`plot_roc_curve` is deprecated in 1.0 and will be removed in 1.2. Use one of the class methods: :meth:`sklearn.metric.RocCurveDisplay.from_predictions` or :meth:`sklearn.metric.RocCurveDisplay.from_estimator`.\n",
      "  warnings.warn(msg, category=FutureWarning)\n"
     ]
    },
    {
     "data": {
      "image/png": "[encoded data removed]",
      "text/plain": [
       "<Figure size 432x288 with 1 Axes>"
      ]
     },
     "metadata": {
      "needs_background": "light"
     },
     "output_type": "display_data"
    },
    {
     "name": "stdout",
     "output_type": "stream",
     "text": [
      "AUC:  0.9293695487606535\n"
     ]
    }
   ],
   "source": [
    "forest_accuracy = metrics.accuracy_score(y_test, forest_y_predict)\n",
    "print('Accuracy: ', forest_accuracy)\n",
    "\n",
    "forest_precision = metrics.precision_score(y_test, forest_y_predict)\n",
    "print('Precision: ', forest_precision)\n",
    "\n",
    "forest_recall = metrics.recall_score(y_test, forest_y_predict)\n",
    "print('Recall: ', forest_recall)\n",
    "\n",
    "forest_f1 = metrics.f1_score(y_test, forest_y_predict)\n",
    "print('F1 score: ', forest_f1)\n",
    "\n",
    "forest_fbeta = metrics.fbeta_score(y_test, forest_y_predict, beta = 0.5)\n",
    "print('F_beta score: ', forest_fbeta)\n",
    "\n",
    "\n",
    "forest_log_loss = metrics.log_loss(y_test, forest_y_predict_prob[:, 1], eps=1e-15)\n",
    "print (\"Log loss: \", forest_log_loss)\n",
    "\n",
    "rf_roc = metrics.plot_roc_curve(rf_model_bestparam, X_test, y_test, name = \"RF\")\n",
    "plt.show()\n",
    "\n",
    "forest_auc = metrics.roc_auc_score(y_test, forest_y_predict_prob[:, 1])\n",
    "print(\"AUC: \", forest_auc)"
   ]
  },
  {
   "cell_type": "markdown",
   "id": "e74b38d1",
   "metadata": {},
   "source": [
    "The AUC (area under the curve) plot shows that the overall performance of the model was high at 93%."
   ]
  },
  {
   "cell_type": "code",
   "execution_count": null,
   "id": "b25462f4",
   "metadata": {},
   "outputs": [],
   "source": []
  },
  {
   "cell_type": "code",
   "execution_count": null,
   "id": "6656be94",
   "metadata": {},
   "outputs": [],
   "source": []
  },
  {
   "cell_type": "code",
   "execution_count": null,
   "id": "8aa3e436",
   "metadata": {},
   "outputs": [],
   "source": []
  },
  {
   "cell_type": "code",
   "execution_count": null,
   "id": "a7712c28",
   "metadata": {},
   "outputs": [],
   "source": []
  }
 ],
 "metadata": {
  "kernelspec": {
   "display_name": "Python 3 (ipykernel)",
   "language": "python",
   "name": "python3"
  },
  "language_info": {
   "codemirror_mode": {
    "name": "ipython",
    "version": 3
   },
   "file_extension": ".py",
   "mimetype": "text/x-python",
   "name": "python",
   "nbconvert_exporter": "python",
   "pygments_lexer": "ipython3",
   "version": "3.9.12"
  }
 },
 "nbformat": 4,
 "nbformat_minor": 5
}
